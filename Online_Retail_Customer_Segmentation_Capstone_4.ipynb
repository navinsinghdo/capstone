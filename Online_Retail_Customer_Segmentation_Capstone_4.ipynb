{
  "nbformat": 4,
  "nbformat_minor": 0,
  "metadata": {
    "colab": {
      "private_outputs": true,
      "provenance": [],
      "collapsed_sections": [
        "vncDsAP0Gaoa",
        "FJNUwmbgGyua",
        "w6K7xa23Elo4",
        "yQaldy8SH6Dl",
        "mDgbUHAGgjLW",
        "O_i_v8NEhb9l",
        "HhfV-JJviCcP",
        "Y3lxredqlCYt",
        "3RnN4peoiCZX",
        "x71ZqKXriCWQ",
        "7hBIi_osiCS2",
        "JlHwYmJAmNHm",
        "35m5QtbWiB9F",
        "PoPl-ycgm1ru",
        "H0kj-8xxnORC",
        "nA9Y7ga8ng1Z",
        "PBTbrJXOngz2",
        "u3PMJOP6ngxN",
        "dauF4eBmngu3",
        "bKJF3rekwFvQ",
        "MSa1f5Uengrz",
        "GF8Ens_Soomf",
        "0wOQAZs5pc--",
        "K5QZ13OEpz2H",
        "lQ7QKXXCp7Bj",
        "448CDAPjqfQr",
        "KSlN3yHqYklG",
        "t6dVpIINYklI",
        "ijmpgYnKYklI",
        "-JiQyfWJYklI",
        "EM7whBJCYoAo",
        "fge-S5ZAYoAp",
        "85gYPyotYoAp",
        "RoGjAbkUYoAp",
        "4Of9eVA-YrdM",
        "iky9q4vBYrdO",
        "F6T5p64dYrdO",
        "y-Ehk30pYrdP",
        "bamQiAODYuh1",
        "QHF8YVU7Yuh3",
        "GwzvFGzlYuh3",
        "qYpmQ266Yuh3",
        "OH-pJp9IphqM",
        "bbFf2-_FphqN",
        "_ouA3fa0phqN",
        "Seke61FWphqN",
        "PIIx-8_IphqN",
        "t27r6nlMphqO",
        "r2jJGEOYphqO",
        "b0JNsNcRphqO",
        "BZR9WyysphqO",
        "jj7wYXLtphqO",
        "eZrbJ2SmphqO",
        "rFu4xreNphqO",
        "YJ55k-q6phqO",
        "gCFgpxoyphqP",
        "OVtJsKN_phqQ",
        "lssrdh5qphqQ",
        "U2RJ9gkRphqQ",
        "1M8mcRywphqQ",
        "tgIPom80phqQ",
        "JMzcOPDDphqR",
        "x-EpHcCOp1ci",
        "X_VqEhTip1ck",
        "8zGJKyg5p1ck",
        "PVzmfK_Ep1ck",
        "n3dbpmDWp1ck",
        "ylSl6qgtp1ck",
        "ZWILFDl5p1ck",
        "M7G43BXep1ck",
        "Ag9LCva-p1cl",
        "E6MkPsBcp1cl",
        "2cELzS2fp1cl",
        "3MPXvC8up1cl",
        "NC_X3p0fY2L0",
        "UV0SzAkaZNRQ",
        "YPEH6qLeZNRQ",
        "q29F0dvdveiT",
        "EXh0U9oCveiU",
        "22aHeOlLveiV",
        "g-ATYxFrGrvw",
        "Yfr_Vlr8HBkt",
        "8yEUt7NnHlrM",
        "tEA2Xm5dHt1r",
        "I79__PHVH19G",
        "Ou-I18pAyIpj",
        "fF3858GYyt-u",
        "4_0_7-oCpUZd",
        "hwyV_J3ipUZe",
        "3yB-zSqbpUZe",
        "dEUvejAfpUZe",
        "Fd15vwWVpUZf",
        "bn_IUdTipZyH",
        "49K5P_iCpZyH",
        "Nff-vKELpZyI",
        "kLW572S8pZyI",
        "dWbDXHzopZyI",
        "yLjJCtPM0KBk",
        "xiyOF9F70UgQ",
        "7wuGOrhz0itI",
        "id1riN9m0vUs",
        "578E2V7j08f6",
        "89xtkJwZ18nB",
        "67NQN5KX2AMe",
        "Iwf50b-R2tYG",
        "GMQiZwjn3iu7",
        "WVIkgGqN3qsr",
        "XkPnILGE3zoT",
        "Hlsf0x5436Go",
        "mT9DMSJo4nBL",
        "c49ITxTc407N",
        "OeJFEK0N496M",
        "9ExmJH0g5HBk",
        "cJNqERVU536h",
        "k5UmGsbsOxih",
        "T0VqWOYE6DLQ",
        "qBMux9mC6MCf",
        "-oLEiFgy-5Pf",
        "C74aWNz2AliB",
        "2DejudWSA-a0",
        "pEMng2IbBLp7",
        "rAdphbQ9Bhjc",
        "TNVZ9zx19K6k",
        "nqoHp30x9hH9",
        "rMDnDkt2B6du",
        "yiiVWRdJDDil",
        "1UUpS68QDMuG",
        "kexQrXU-DjzY",
        "T5CmagL3EC8N",
        "BhH2vgX9EjGr",
        "qjKvONjwE8ra",
        "P1XJ9OREExlT",
        "VFOzZv6IFROw",
        "TIqpNgepFxVj",
        "VfCC591jGiD4",
        "OB4l2ZhMeS1U",
        "ArJBuiUVfxKd",
        "4qY1EAkEfxKe",
        "PiV4Ypx8fxKe",
        "TfvqoZmBfxKf",
        "dJ2tPlVmpsJ0",
        "JWYfwnehpsJ1",
        "-jK_YjpMpsJ2",
        "HAih1iBOpsJ2",
        "zVGeBEFhpsJ2",
        "bmKjuQ-FpsJ3",
        "Fze-IPXLpx6K",
        "7AN1z2sKpx6M",
        "9PIHJqyupx6M",
        "_-qAgymDpx6N",
        "Z-hykwinpx6N",
        "h_CCil-SKHpo",
        "cBFFvTBNJzUa",
        "HvGl1hHyA_VK",
        "EyNgTHvd2WFk",
        "KH5McJBi2d8v",
        "iW_Lq9qf2h6X",
        "-Kee-DAl2viO",
        "gCX9965dhzqZ",
        "gIfDvo9L0UH2"
      ],
      "include_colab_link": true
    },
    "kernelspec": {
      "name": "python3",
      "display_name": "Python 3"
    },
    "language_info": {
      "name": "python"
    }
  },
  "cells": [
    {
      "cell_type": "markdown",
      "metadata": {
        "id": "view-in-github",
        "colab_type": "text"
      },
      "source": [
        "<a href=\"https://colab.research.google.com/github/navinsinghdo/capstone/blob/main/Online_Retail_Customer_Segmentation_Capstone_4.ipynb\" target=\"_parent\"><img src=\"https://colab.research.google.com/assets/colab-badge.svg\" alt=\"Open In Colab\"/></a>"
      ]
    },
    {
      "cell_type": "markdown",
      "source": [
        "# **Project Name**    - Online Retail Customer Segmentation\n",
        "\n"
      ],
      "metadata": {
        "id": "vncDsAP0Gaoa"
      }
    },
    {
      "cell_type": "markdown",
      "source": [
        "##### **Project Type**    - Unsupervised\n",
        "##### **Contribution**    - Individual\n"
      ],
      "metadata": {
        "id": "beRrZCGUAJYm"
      }
    },
    {
      "cell_type": "markdown",
      "source": [
        "# **Project Summary -**"
      ],
      "metadata": {
        "id": "FJNUwmbgGyua"
      }
    },
    {
      "cell_type": "markdown",
      "source": [
        "Summary:\n",
        "I recieved a data frame with following features(columns):\n",
        "\n",
        "InvoiceNo: Invoice number. Nominal, a 6-digit integral number uniquely assigned to each transaction. If this code starts with letter 'c', it indicates a cancellation. StockCode: Product (item) code. Nominal, a 5-digit integral number uniquely assigned to each distinct product. Description: Product (item) name. Nominal. Quantity: The quantities of each product (item) per transaction. Numeric. InvoiceDate: Invoice Date and time. Numeric, the day and time when each transaction was generated. UnitPrice: Unit price. Numeric, Product price per unit in sterling. CustomerID: Customer number. Nominal, a 5-digit integral number uniquely assigned to each customer. Country: Country name. Nominal, the name of the country where each customer resides.\n",
        "\n",
        "The cx of any retain company falls under different category and sub groups. Those groups can be based on country, time of purchase, types of purchase, total purchase and so on. Segementating them into multiple groups using ML models helps the company for better service, keeping good and old cx happy and targeted advertisment, etc.\n",
        "\n",
        "I started my project with dropping null values, as there was no good way to replace them. I also stripped date, month, time, etc. in different column for better analysis. I also made a new feature of total cost a cx spend. Further, I analysed which countries have highest number of cx, months with high orders, products that gets most demand, etc. I also made graph to have a clear visulization.\n",
        "\n",
        "I also noticed a number of cx cancelled the order, I dropped cx with negative total cost before modelling. The company is ideally suggested to look into why some cx cancelled orders.\n",
        "\n",
        "I did the RFM modelling, thus analysed the cx on basis of Recency, Frequency, Monetary Value. In the last part I used different ML models to cluster data into different groups. According to models, following are the ideal number of clusters to be divided.\n",
        "\n",
        "Model Name   -----                             Optimal Number of Clusters\n",
        "\n",
        "\n",
        "K-Means      -----                                      3\n",
        "\n",
        "K-means with silhouette_score      -----                2\n",
        "\n",
        "K-Means with elbow method         -----                 4\n",
        "\n",
        "Hierarchical clustering          -----                  2\n",
        "\n",
        "Hierarchical clustering after cut-off     -----         3\n"
      ],
      "metadata": {
        "id": "F6v_1wHtG2nS"
      }
    },
    {
      "cell_type": "markdown",
      "source": [
        "# **GitHub Link -**"
      ],
      "metadata": {
        "id": "w6K7xa23Elo4"
      }
    },
    {
      "cell_type": "markdown",
      "source": [
        "Provide your GitHub Link here."
      ],
      "metadata": {
        "id": "h1o69JH3Eqqn"
      }
    },
    {
      "cell_type": "markdown",
      "source": [
        "# **Problem Statement**\n"
      ],
      "metadata": {
        "id": "yQaldy8SH6Dl"
      }
    },
    {
      "cell_type": "markdown",
      "source": [
        "In this project, your task is to identify major customer segments on a transnational data set which contains all the transactions occurring between 01/12/2010 and 09/12/2011 for a UK-based and registered non-store online retail.The company mainly sells unique all-occasion gifts. Many customers of the company are wholesalers."
      ],
      "metadata": {
        "id": "DpeJGUA3kjGy"
      }
    },
    {
      "cell_type": "markdown",
      "source": [
        "# ***Let's Begin !***"
      ],
      "metadata": {
        "id": "O_i_v8NEhb9l"
      }
    },
    {
      "cell_type": "markdown",
      "source": [
        "## ***1. Know Your Data***"
      ],
      "metadata": {
        "id": "HhfV-JJviCcP"
      }
    },
    {
      "cell_type": "markdown",
      "source": [
        "### Import Libraries"
      ],
      "metadata": {
        "id": "Y3lxredqlCYt"
      }
    },
    {
      "cell_type": "code",
      "source": [
        "# Import Libraries\n",
        "\n",
        "import numpy as np \n",
        "import pandas as pd \n",
        "import matplotlib.pyplot as plt\n",
        "import seaborn as sns\n",
        "import warnings\n",
        "warnings.filterwarnings('ignore')\n",
        "%matplotlib inline\n",
        "\n",
        "import datetime as dt\n",
        "from sklearn.preprocessing import StandardScaler\n",
        "from sklearn.cluster import KMeans\n",
        "from sklearn.metrics import silhouette_samples, silhouette_score\n",
        "import matplotlib.cm as cm\n",
        "from yellowbrick.cluster import KElbowVisualizer\n",
        "from pylab import rcParams\n",
        "from sklearn.cluster import AgglomerativeClustering\n",
        "import scipy.cluster.hierarchy as sch\n",
        "from prettytable import PrettyTable "
      ],
      "metadata": {
        "id": "M8Vqi-pPk-HR"
      },
      "execution_count": null,
      "outputs": []
    },
    {
      "cell_type": "markdown",
      "source": [
        "### Dataset Loading"
      ],
      "metadata": {
        "id": "3RnN4peoiCZX"
      }
    },
    {
      "cell_type": "code",
      "source": [
        "# Load Dataset\n",
        "\n",
        "from google.colab import drive\n",
        "drive.mount('/content/drive')\n",
        "\n",
        "df = pd.read_excel('/content/drive/MyDrive/Online Retail.xlsx')"
      ],
      "metadata": {
        "id": "4CkvbW_SlZ_R"
      },
      "execution_count": null,
      "outputs": []
    },
    {
      "cell_type": "markdown",
      "source": [
        "### Dataset First View"
      ],
      "metadata": {
        "id": "x71ZqKXriCWQ"
      }
    },
    {
      "cell_type": "code",
      "source": [
        "# Dataset First Look\n",
        "\n",
        "df.head()"
      ],
      "metadata": {
        "id": "LWNFOSvLl09H"
      },
      "execution_count": null,
      "outputs": []
    },
    {
      "cell_type": "markdown",
      "source": [
        "### Dataset Rows & Columns count"
      ],
      "metadata": {
        "id": "7hBIi_osiCS2"
      }
    },
    {
      "cell_type": "code",
      "source": [
        "# Dataset Rows & Columns count\n",
        "\n",
        "df.shape"
      ],
      "metadata": {
        "id": "Kllu7SJgmLij"
      },
      "execution_count": null,
      "outputs": []
    },
    {
      "cell_type": "markdown",
      "source": [
        "### Dataset Information"
      ],
      "metadata": {
        "id": "JlHwYmJAmNHm"
      }
    },
    {
      "cell_type": "code",
      "source": [
        "# Dataset Info\n",
        "\n",
        "df.info()"
      ],
      "metadata": {
        "id": "e9hRXRi6meOf"
      },
      "execution_count": null,
      "outputs": []
    },
    {
      "cell_type": "markdown",
      "source": [
        "#### Duplicate Values"
      ],
      "metadata": {
        "id": "35m5QtbWiB9F"
      }
    },
    {
      "cell_type": "code",
      "source": [
        "# Dataset Duplicate Value Count\n",
        "\n",
        "df.duplicated().sum()"
      ],
      "metadata": {
        "id": "1sLdpKYkmox0"
      },
      "execution_count": null,
      "outputs": []
    },
    {
      "cell_type": "markdown",
      "source": [
        "#### Missing Values/Null Values"
      ],
      "metadata": {
        "id": "PoPl-ycgm1ru"
      }
    },
    {
      "cell_type": "code",
      "source": [
        "# Missing Values/Null Values Count\n",
        "\n",
        "df.isnull().sum()"
      ],
      "metadata": {
        "id": "GgHWkxvamxVg"
      },
      "execution_count": null,
      "outputs": []
    },
    {
      "cell_type": "code",
      "source": [
        "# Visualizing the missing values\n",
        "\n",
        "import missingno as msno\n",
        "msno.bar(df)"
      ],
      "metadata": {
        "id": "3q5wnI3om9sJ"
      },
      "execution_count": null,
      "outputs": []
    },
    {
      "cell_type": "markdown",
      "source": [
        "### What did you know about your dataset?"
      ],
      "metadata": {
        "id": "H0kj-8xxnORC"
      }
    },
    {
      "cell_type": "markdown",
      "source": [
        "The data set contains information of different online customer, including invoice number, stock code, quantity, etc. (details in section below).\n",
        "\n",
        "Out dataframe have 5268 duplicates, and a number of NAN in 2 columns: discription and customer id(shown in graph above)."
      ],
      "metadata": {
        "id": "gfoNAAC-nUe_"
      }
    },
    {
      "cell_type": "markdown",
      "source": [
        "## ***2. Understanding Your Variables***"
      ],
      "metadata": {
        "id": "nA9Y7ga8ng1Z"
      }
    },
    {
      "cell_type": "code",
      "source": [
        "# Dataset Columns\n",
        "\n",
        "df.columns"
      ],
      "metadata": {
        "id": "j7xfkqrt5Ag5"
      },
      "execution_count": null,
      "outputs": []
    },
    {
      "cell_type": "code",
      "source": [
        "# Dataset Describe\n",
        "\n",
        "df.describe()"
      ],
      "metadata": {
        "id": "DnOaZdaE5Q5t"
      },
      "execution_count": null,
      "outputs": []
    },
    {
      "cell_type": "markdown",
      "source": [
        "### Variables Description "
      ],
      "metadata": {
        "id": "PBTbrJXOngz2"
      }
    },
    {
      "cell_type": "markdown",
      "source": [
        "InvoiceNo: Invoice number. Nominal, a 6-digit integral number uniquely assigned to each transaction. If this code starts with letter 'c', it indicates a cancellation.\n",
        "\n",
        "StockCode: Product (item) code. Nominal, a 5-digit integral number uniquely assigned to each distinct product.\n",
        "\n",
        "Description: Product (item) name. Nominal.\n",
        "\n",
        "Quantity: The quantities of each product (item) per transaction. Numeric.\n",
        "\n",
        "InvoiceDate: Invice Date and time. Numeric, the day and time when each transaction was generated.\n",
        "\n",
        "UnitPrice: Unit price. Numeric, Product price per unit in sterling.\n",
        "\n",
        "CustomerID: Customer number. Nominal, a 5-digit integral number uniquely assigned to each customer.\n",
        "\n",
        "Country: Country name. Nominal, the name of the country where each customer resides."
      ],
      "metadata": {
        "id": "aJV4KIxSnxay"
      }
    },
    {
      "cell_type": "markdown",
      "source": [
        "### Check Unique Values for each variable."
      ],
      "metadata": {
        "id": "u3PMJOP6ngxN"
      }
    },
    {
      "cell_type": "code",
      "source": [
        "# Check Unique Values for each variable.\n",
        "\n",
        "df.nunique()"
      ],
      "metadata": {
        "id": "zms12Yq5n-jE"
      },
      "execution_count": null,
      "outputs": []
    },
    {
      "cell_type": "markdown",
      "source": [
        "## 3. ***Data Wrangling***"
      ],
      "metadata": {
        "id": "dauF4eBmngu3"
      }
    },
    {
      "cell_type": "markdown",
      "source": [
        "### Data Wrangling Code"
      ],
      "metadata": {
        "id": "bKJF3rekwFvQ"
      }
    },
    {
      "cell_type": "code",
      "source": [
        "# Write your code to make your dataset analysis ready.\n",
        "\n",
        "#We have a invoice date column, checking data type.\n",
        "df.dtypes"
      ],
      "metadata": {
        "id": "wk-9a2fpoLcV"
      },
      "execution_count": null,
      "outputs": []
    },
    {
      "cell_type": "code",
      "source": [
        "#We already have InvoiceDate as datetime object. I am stripping them into year, month, day, hours to have a better analysis of costomer. \n",
        "df['Invoice_Year'] = df['InvoiceDate'].dt.year\n",
        "df['Invoice_Month'] = df['InvoiceDate'].dt.strftime('%B') \n",
        "df['Invoice_Day'] = df['InvoiceDate'].dt.strftime('%A') \n",
        "df['Invoice_Hour'] = df['InvoiceDate'].dt.hour\n",
        "\n",
        "#Printing data frame\n",
        "df.head()"
      ],
      "metadata": {
        "id": "Bs1ObUFqzevM"
      },
      "execution_count": null,
      "outputs": []
    },
    {
      "cell_type": "code",
      "source": [
        "#Adding a new column for total amount. Tital amount = Quantity*Unit price.\n",
        "df['Total_Amount'] = df['Quantity']*df['UnitPrice']\n",
        "\n",
        "#printing new data frame\n",
        "df.head()"
      ],
      "metadata": {
        "id": "cBYCnwfS0D6h"
      },
      "execution_count": null,
      "outputs": []
    },
    {
      "cell_type": "code",
      "source": [
        "df.dropna(axis = 0 , inplace = True)\n",
        "df.drop_duplicates(inplace=True)"
      ],
      "metadata": {
        "id": "s7QJ_11O0IfR"
      },
      "execution_count": null,
      "outputs": []
    },
    {
      "cell_type": "markdown",
      "source": [
        "### What all manipulations have you done and insights you found?"
      ],
      "metadata": {
        "id": "MSa1f5Uengrz"
      }
    },
    {
      "cell_type": "markdown",
      "source": [
        "I have done 2 manipulation in data frame:\n",
        "\n",
        "Added 4 additional column from datetime feature, that are: Invoice year, Month, day and hour.\n",
        "I have also added one additional column for total amount spend by customer.\n",
        "Both this new column(feature) will help us better analyze the customer."
      ],
      "metadata": {
        "id": "LbyXE7I1olp8"
      }
    },
    {
      "cell_type": "markdown",
      "source": [
        "## ***4. Data Vizualization, Storytelling & Experimenting with charts : Understand the relationships between variables***"
      ],
      "metadata": {
        "id": "GF8Ens_Soomf"
      }
    },
    {
      "cell_type": "markdown",
      "source": [
        "#### Chart - 1"
      ],
      "metadata": {
        "id": "0wOQAZs5pc--"
      }
    },
    {
      "cell_type": "code",
      "source": [
        "# Chart - 1 visualization code\n",
        "\n",
        "num_features= list(df.select_dtypes(['int64','float64']))\n",
        "\n",
        "for col in num_features:\n",
        "  fig = plt.figure(figsize = (10,6))\n",
        "  ax = fig.gca()\n",
        "  sns.distplot(df[col])\n",
        "  feature = df[col]\n",
        "  ax.axvline(feature.mean(), color= 'red')\n",
        "  ax.axvline(feature.median(), color= 'Blue')\n",
        "  ax.set_title(f'Histogram plot for {col}')\n",
        "\n",
        "  plt.show()\n",
        "     "
      ],
      "metadata": {
        "id": "7v_ESjsspbW7"
      },
      "execution_count": null,
      "outputs": []
    },
    {
      "cell_type": "markdown",
      "source": [
        "##### 1. Why did you pick the specific chart?"
      ],
      "metadata": {
        "id": "K5QZ13OEpz2H"
      }
    },
    {
      "cell_type": "markdown",
      "source": [
        "Seaborn distplot is best way to visualize numerical data and read it."
      ],
      "metadata": {
        "id": "XESiWehPqBRc"
      }
    },
    {
      "cell_type": "markdown",
      "source": [
        "#### Chart - 2\n",
        "\n",
        "Top Countries"
      ],
      "metadata": {
        "id": "KSlN3yHqYklG"
      }
    },
    {
      "cell_type": "code",
      "source": [
        "# Chart - 2 visualization code\n",
        "\n",
        "top_countries = pd.DataFrame(df['Country'].value_counts().sort_values(ascending = False).reset_index())\n",
        "top_countries['Country %']= top_countries['Country']*100/df['Country'].count()\n",
        "top_countries.rename(columns = {'index':'Country','Country':'Total Counts'},inplace = True)\n",
        "top_countries.head(5)"
      ],
      "metadata": {
        "id": "R4YgtaqtYklH"
      },
      "execution_count": null,
      "outputs": []
    },
    {
      "cell_type": "code",
      "source": [
        "plt.figure(figsize= (30,10))\n",
        "sns.barplot(x = 'Country' , y = 'Total Counts' , data = top_countries[:15] , palette=(\"YlOrBr\")) #Setting it will 15 only as there are may country with very small counts. \n",
        "plt.xlabel('Countries' , size = 15)\n",
        "plt.ylabel('Total counts' , size  = 15)\n",
        "plt.title('Country vs counts of CX')"
      ],
      "metadata": {
        "id": "570Gz8CF1Kyx"
      },
      "execution_count": null,
      "outputs": []
    },
    {
      "cell_type": "markdown",
      "source": [
        "##### 1. Why did you pick the specific chart?"
      ],
      "metadata": {
        "id": "t6dVpIINYklI"
      }
    },
    {
      "cell_type": "markdown",
      "source": [
        "Bar plot is a good and easy way to visualize here as we want to compare demand by country."
      ],
      "metadata": {
        "id": "5aaW0BYyYklI"
      }
    },
    {
      "cell_type": "markdown",
      "source": [
        "##### 2. What is/are the insight(s) found from the chart?"
      ],
      "metadata": {
        "id": "ijmpgYnKYklI"
      }
    },
    {
      "cell_type": "markdown",
      "source": [
        "UK have highest demand followed by germany and france."
      ],
      "metadata": {
        "id": "PSx9atu2YklI"
      }
    },
    {
      "cell_type": "markdown",
      "source": [
        "##### 3. Will the gained insights help creating a positive business impact? \n",
        "Are there any insights that lead to negative growth? Justify with specific reason."
      ],
      "metadata": {
        "id": "-JiQyfWJYklI"
      }
    },
    {
      "cell_type": "markdown",
      "source": [
        "The management is suggested to check how much we are spending in ads for UK and germany and compare roi, as demand is UK is much higher as compared to germany and france. The management should also check investment of countries like finland, cyprus, etc. as they have lowest customer. A healthy ratio of roi and customer acquisition cost have lead positive buisness growth."
      ],
      "metadata": {
        "id": "BcBbebzrYklV"
      }
    },
    {
      "cell_type": "markdown",
      "source": [
        "#### Chart - 3\n",
        "\n",
        "Monthly consumrion in top to bottom order"
      ],
      "metadata": {
        "id": "EM7whBJCYoAo"
      }
    },
    {
      "cell_type": "code",
      "source": [
        "# Chart - 3 visualization code\n",
        "\n",
        "top_months_df = pd.DataFrame(df['Invoice_Month'].value_counts().sort_values(ascending = False).reset_index())\n",
        "top_months_df.rename(columns = {'index' : 'Invoice_Month' , 'Invoice_Month' : 'Monthly Frequency' } , inplace = True)\n",
        "\n",
        "top_months_df"
      ],
      "metadata": {
        "id": "t6GMdE67YoAp"
      },
      "execution_count": null,
      "outputs": []
    },
    {
      "cell_type": "code",
      "source": [
        "plt.figure(figsize = (30,10))\n",
        "\n",
        "sns.barplot(x = 'Invoice_Month' , y = 'Monthly Frequency' , data = top_months_df , palette=(\"YlOrBr\"))\n",
        "plt.xlabel('Invoice Month' , size = 15)\n",
        "plt.ylabel('Monthly Frequency' , size = 15)\n",
        "plt.title('Monthly Frequency')\n",
        "\n",
        "plt.show()"
      ],
      "metadata": {
        "id": "tMqW4PnbJkq1"
      },
      "execution_count": null,
      "outputs": []
    },
    {
      "cell_type": "markdown",
      "source": [
        "##### 1. Why did you pick the specific chart?"
      ],
      "metadata": {
        "id": "fge-S5ZAYoAp"
      }
    },
    {
      "cell_type": "markdown",
      "source": [
        "I here want to compare demand by month, bra plot is best option for that. It compares month sales side by side."
      ],
      "metadata": {
        "id": "5dBItgRVYoAp"
      }
    },
    {
      "cell_type": "markdown",
      "source": [
        "##### 2. What is/are the insight(s) found from the chart?"
      ],
      "metadata": {
        "id": "85gYPyotYoAp"
      }
    },
    {
      "cell_type": "markdown",
      "source": [
        "November have highest frequency of demand."
      ],
      "metadata": {
        "id": "4jstXR6OYoAp"
      }
    },
    {
      "cell_type": "markdown",
      "source": [
        "##### 3. Will the gained insights help creating a positive business impact? \n",
        "Are there any insights that lead to negative growth? Justify with specific reason."
      ],
      "metadata": {
        "id": "RoGjAbkUYoAp"
      }
    },
    {
      "cell_type": "markdown",
      "source": [
        "The management can consider investing more on ads and discounts to drive more sales in months like feb , april , etc. It will lead to positive buisness growth."
      ],
      "metadata": {
        "id": "zfJ8IqMcYoAp"
      }
    },
    {
      "cell_type": "markdown",
      "source": [
        "#### Chart - 4\n",
        "\n",
        "Top Consumption by Days of Week"
      ],
      "metadata": {
        "id": "4Of9eVA-YrdM"
      }
    },
    {
      "cell_type": "code",
      "source": [
        "# Chart - 4 visualization code\n",
        "\n",
        "top_days_df = pd.DataFrame( df['Invoice_Day'].value_counts().sort_values(ascending = False).reset_index())\n",
        "top_days_df.rename(columns = {'index' : 'Invoice Day' , 'Invoice_Day' : 'Frequency'} , inplace = True)\n",
        "\n",
        "top_days_df"
      ],
      "metadata": {
        "id": "irlUoxc8YrdO"
      },
      "execution_count": null,
      "outputs": []
    },
    {
      "cell_type": "code",
      "source": [
        "plt.figure(figsize=(20,10))\n",
        "\n",
        "sns.barplot(x = 'Invoice Day' , y = 'Frequency' , data = top_days_df ,  palette=(\"YlOrBr\"))\n",
        "plt.xlabel('Day' , size = 15)\n",
        "plt.ylabel('Frequency' , size = 15)\n",
        "plt.title('Frequency by Days')\n",
        "\n",
        "plt.show()"
      ],
      "metadata": {
        "id": "0fb4SnqrKDn3"
      },
      "execution_count": null,
      "outputs": []
    },
    {
      "cell_type": "markdown",
      "source": [
        "##### 1. Why did you pick the specific chart?"
      ],
      "metadata": {
        "id": "iky9q4vBYrdO"
      }
    },
    {
      "cell_type": "markdown",
      "source": [
        "For comparision, bar plot is the best option."
      ],
      "metadata": {
        "id": "aJRCwT6DYrdO"
      }
    },
    {
      "cell_type": "markdown",
      "source": [
        "##### 2. What is/are the insight(s) found from the chart?"
      ],
      "metadata": {
        "id": "F6T5p64dYrdO"
      }
    },
    {
      "cell_type": "markdown",
      "source": [
        "Thrusday have highest sales, friday and sunday have among lowest."
      ],
      "metadata": {
        "id": "Xx8WAJvtYrdO"
      }
    },
    {
      "cell_type": "markdown",
      "source": [
        "##### 3. Will the gained insights help creating a positive business impact? \n",
        "Are there any insights that lead to negative growth? Justify with specific reason."
      ],
      "metadata": {
        "id": "y-Ehk30pYrdP"
      }
    },
    {
      "cell_type": "markdown",
      "source": [
        "The management can invest more on discounts on sunday and friday."
      ],
      "metadata": {
        "id": "jLNxxz7MYrdP"
      }
    },
    {
      "cell_type": "markdown",
      "source": [
        "#### Chart - 5\n",
        "\n",
        "Consumption by Hour of the Day"
      ],
      "metadata": {
        "id": "bamQiAODYuh1"
      }
    },
    {
      "cell_type": "code",
      "source": [
        "# Chart - 5 visualization code\n",
        "\n",
        "top_hrs_df = pd.DataFrame(df['Invoice_Hour'].value_counts().sort_values(ascending = False).reset_index())\n",
        "top_hrs_df.rename(columns = {'index' : 'Invoice Hour' , 'Invoice_Hour': 'Frequency'}, inplace = True)\n",
        "\n",
        "top_hrs_df"
      ],
      "metadata": {
        "id": "TIJwrbroYuh3"
      },
      "execution_count": null,
      "outputs": []
    },
    {
      "cell_type": "code",
      "source": [
        "plt.figure(figsize=(20,10))\n",
        "\n",
        "sns.barplot(x = 'Invoice Hour' , y = 'Frequency' , data = top_hrs_df ,  palette=(\"YlOrBr\"))\n",
        "plt.xlabel('Hour' , size = 15)\n",
        "plt.ylabel('Frequency' , size = 15)\n",
        "plt.title('Frequency by Hours')\n",
        "\n",
        "plt.show()"
      ],
      "metadata": {
        "id": "Htq6GQqyLRsz"
      },
      "execution_count": null,
      "outputs": []
    },
    {
      "cell_type": "markdown",
      "source": [
        "##### 1. Why did you pick the specific chart?"
      ],
      "metadata": {
        "id": "QHF8YVU7Yuh3"
      }
    },
    {
      "cell_type": "markdown",
      "source": [
        "To compare demand of customers by hrs, bar plot is best option."
      ],
      "metadata": {
        "id": "dcxuIMRPYuh3"
      }
    },
    {
      "cell_type": "markdown",
      "source": [
        "##### 2. What is/are the insight(s) found from the chart?"
      ],
      "metadata": {
        "id": "GwzvFGzlYuh3"
      }
    },
    {
      "cell_type": "markdown",
      "source": [
        "12, 13 hrs have highest demand."
      ],
      "metadata": {
        "id": "uyqkiB8YYuh3"
      }
    },
    {
      "cell_type": "markdown",
      "source": [
        "##### 3. Will the gained insights help creating a positive business impact? \n",
        "Are there any insights that lead to negative growth? Justify with specific reason."
      ],
      "metadata": {
        "id": "qYpmQ266Yuh3"
      }
    },
    {
      "cell_type": "markdown",
      "source": [
        "The management can explore of using more serve space in 12, 13 hrs, and lesser in off hrs like after 20 and before 9. If done, it can potentially lead to positive buisness growth."
      ],
      "metadata": {
        "id": "_WtzZ_hCYuh4"
      }
    },
    {
      "cell_type": "markdown",
      "source": [
        "#### Chart - 6\n",
        "\n",
        "Most and the Least purchased products"
      ],
      "metadata": {
        "id": "OH-pJp9IphqM"
      }
    },
    {
      "cell_type": "code",
      "source": [
        "# Chart - 6 visualization code\n",
        "\n",
        "product_desc_df = pd.DataFrame(df['Description'].value_counts().sort_values(ascending = False).reset_index())\n",
        "product_desc_df.rename(columns = {'index' : 'Description' , 'Description': 'Frequency'}, inplace = True)\n",
        "\n",
        "product_desc_df"
      ],
      "metadata": {
        "id": "kuRf4wtuphqN"
      },
      "execution_count": null,
      "outputs": []
    },
    {
      "cell_type": "code",
      "source": [
        "plt.figure(figsize=(30,10))\n",
        "\n",
        "sns.barplot(x = 'Description' , y = 'Frequency' , data = product_desc_df[:10] ,  palette=(\"YlOrBr\"))\n",
        "plt.xlabel('Description' , size = 15)\n",
        "plt.ylabel('Frequency' , size = 15)\n",
        "plt.title('Frequency by Description')\n",
        "\n",
        "plt.show()"
      ],
      "metadata": {
        "id": "st9aQQSdL_Af"
      },
      "execution_count": null,
      "outputs": []
    },
    {
      "cell_type": "markdown",
      "source": [
        "##### 1. Why did you pick the specific chart?"
      ],
      "metadata": {
        "id": "bbFf2-_FphqN"
      }
    },
    {
      "cell_type": "markdown",
      "source": [
        "Barplot is most suitable for comparision"
      ],
      "metadata": {
        "id": "loh7H2nzphqN"
      }
    },
    {
      "cell_type": "markdown",
      "source": [
        "##### 2. What is/are the insight(s) found from the chart?"
      ],
      "metadata": {
        "id": "_ouA3fa0phqN"
      }
    },
    {
      "cell_type": "markdown",
      "source": [
        "White hanging heart light have highest demand."
      ],
      "metadata": {
        "id": "VECbqPI7phqN"
      }
    },
    {
      "cell_type": "markdown",
      "source": [
        "##### 3. Will the gained insights help creating a positive business impact? \n",
        "Are there any insights that lead to negative growth? Justify with specific reason."
      ],
      "metadata": {
        "id": "Seke61FWphqN"
      }
    },
    {
      "cell_type": "markdown",
      "source": [
        "The management can push low sale items via ad if required."
      ],
      "metadata": {
        "id": "DW4_bGpfphqN"
      }
    },
    {
      "cell_type": "markdown",
      "source": [
        "#### Chart - 7\n",
        "\n",
        "Total Amount"
      ],
      "metadata": {
        "id": "PIIx-8_IphqN"
      }
    },
    {
      "cell_type": "code",
      "source": [
        "# Chart - 7 visualization code\n",
        "\n",
        "plt.figure(figsize = (15,10))\n",
        "sns.distplot(df['Total_Amount'])"
      ],
      "metadata": {
        "id": "lqAIGUfyphqO"
      },
      "execution_count": null,
      "outputs": []
    },
    {
      "cell_type": "markdown",
      "source": [
        "The graph is showing below 0 and -ve as well. Removing it"
      ],
      "metadata": {
        "id": "Qt0EL7l4M23r"
      }
    },
    {
      "cell_type": "code",
      "source": [
        "total_amount_df = df[df['Total_Amount']>0]\n",
        "\n",
        "# Distribution of Total amounts\n",
        "plt.figure(figsize = (20,10))\n",
        "sns.distplot(np.log1p(total_amount_df['Total_Amount']))\n",
        "plt.title('Distribution of Total Amount')"
      ],
      "metadata": {
        "id": "tDd2t5x6Mx0z"
      },
      "execution_count": null,
      "outputs": []
    },
    {
      "cell_type": "markdown",
      "source": [
        "##### 1. Why did you pick the specific chart?"
      ],
      "metadata": {
        "id": "t27r6nlMphqO"
      }
    },
    {
      "cell_type": "markdown",
      "source": [
        "seaborn distplot is best to visualize distribution."
      ],
      "metadata": {
        "id": "iv6ro40sphqO"
      }
    },
    {
      "cell_type": "markdown",
      "source": [
        "##### 2. What is/are the insight(s) found from the chart?"
      ],
      "metadata": {
        "id": "r2jJGEOYphqO"
      }
    },
    {
      "cell_type": "markdown",
      "source": [
        "This is a right skewed distribution."
      ],
      "metadata": {
        "id": "Po6ZPi4hphqO"
      }
    },
    {
      "cell_type": "markdown",
      "source": [
        "#### Chart - 8\n",
        "\n",
        "Customers who cancels orders"
      ],
      "metadata": {
        "id": "BZR9WyysphqO"
      }
    },
    {
      "cell_type": "markdown",
      "source": [
        "Reason for so many -ve total amount was because a number of customers are cancelling the order as well, which is bad for buisness. I am writing a function to check where total amount is negative, and visualizing them."
      ],
      "metadata": {
        "id": "11Cz_RXxNa0u"
      }
    },
    {
      "cell_type": "code",
      "source": [
        "# Chart - 8 visualization code\n",
        "\n",
        "#Making a function to check if total amount is negative(means cancelled, thus loss for company)\n",
        "\n",
        "def cancel_or_not(data):\n",
        "  '''\n",
        "  This function will check if the total amount is in negative which imply that the order was cancelled.\n",
        "  '''\n",
        "  if (data<0):\n",
        "    return 'cancelled'\n",
        "  \n",
        "  else:\n",
        "    return 'Not cancelled'\n",
        "\n",
        "  return data"
      ],
      "metadata": {
        "id": "TdPTWpAVphqO"
      },
      "execution_count": null,
      "outputs": []
    },
    {
      "cell_type": "code",
      "source": [
        "df_copy = df.copy() #making a copy as I do not want original data frame to change.\n",
        "df_copy['Cancelling_insight'] = df['Total_Amount'].apply(cancel_or_not)\n",
        "cancellation_df = pd.DataFrame(df_copy.groupby('Cancelling_insight' , sort= False).agg({'CustomerID': 'count'}))\n",
        "cancellation_df"
      ],
      "metadata": {
        "id": "yR-gpzoUNpbK"
      },
      "execution_count": null,
      "outputs": []
    },
    {
      "cell_type": "code",
      "source": [
        "plt.figure(figsize = (15,10))\n",
        "\n",
        "sns.barplot(x = cancellation_df.index , y = 'CustomerID' ,data = cancellation_df )"
      ],
      "metadata": {
        "id": "f76-nujzN5ml"
      },
      "execution_count": null,
      "outputs": []
    },
    {
      "cell_type": "markdown",
      "source": [
        "##### 1. Why did you pick the specific chart?"
      ],
      "metadata": {
        "id": "jj7wYXLtphqO"
      }
    },
    {
      "cell_type": "markdown",
      "source": [
        "Bar plot is best for side by side comparison."
      ],
      "metadata": {
        "id": "Ob8u6rCTphqO"
      }
    },
    {
      "cell_type": "markdown",
      "source": [
        "##### 2. What is/are the insight(s) found from the chart?"
      ],
      "metadata": {
        "id": "eZrbJ2SmphqO"
      }
    },
    {
      "cell_type": "markdown",
      "source": [
        "8905 customer have cancelled the order."
      ],
      "metadata": {
        "id": "mZtgC_hjphqO"
      }
    },
    {
      "cell_type": "markdown",
      "source": [
        "##### 3. Will the gained insights help creating a positive business impact? \n",
        "Are there any insights that lead to negative growth? Justify with specific reason."
      ],
      "metadata": {
        "id": "rFu4xreNphqO"
      }
    },
    {
      "cell_type": "markdown",
      "source": [
        "The management is sugessted to look into reasons for order cancellation. If the number increases, it might lead to negative buisness growth."
      ],
      "metadata": {
        "id": "ey_0qi68phqO"
      }
    },
    {
      "cell_type": "markdown",
      "source": [
        "#### Chart - 9 - Correlation Heatmap"
      ],
      "metadata": {
        "id": "NC_X3p0fY2L0"
      }
    },
    {
      "cell_type": "code",
      "source": [
        "# Correlation Heatmap visualization codeplt.figure(figsize = (20,10))\n",
        "\n",
        "plt.figure(figsize = (20,10))\n",
        "\n",
        "sns.heatmap(df.corr() , annot = True , cmap=sns.diverging_palette(20, 220, n=200))\n",
        "plt.title('Corelation Matrix')\n"
      ],
      "metadata": {
        "id": "xyC9zolEZNRQ"
      },
      "execution_count": null,
      "outputs": []
    },
    {
      "cell_type": "markdown",
      "source": [
        "##### 1. Why did you pick the specific chart?"
      ],
      "metadata": {
        "id": "UV0SzAkaZNRQ"
      }
    },
    {
      "cell_type": "markdown",
      "source": [
        "Heatmaps are best plot to read and understand corelation. The more close 2 columns are, the closer to 1 it gets. -ve means they are inversely corelated."
      ],
      "metadata": {
        "id": "DVPuT8LYZNRQ"
      }
    },
    {
      "cell_type": "markdown",
      "source": [
        "##### 2. What is/are the insight(s) found from the chart?"
      ],
      "metadata": {
        "id": "YPEH6qLeZNRQ"
      }
    },
    {
      "cell_type": "markdown",
      "source": [
        "Some features like total amount and quantity are highly corelated."
      ],
      "metadata": {
        "id": "bfSqtnDqZNRR"
      }
    },
    {
      "cell_type": "markdown",
      "source": [
        "## ***5. Feature Engineering & Data Pre-processing***"
      ],
      "metadata": {
        "id": "yLjJCtPM0KBk"
      }
    },
    {
      "cell_type": "markdown",
      "source": [
        "### 1. Handling Missing Values"
      ],
      "metadata": {
        "id": "xiyOF9F70UgQ"
      }
    },
    {
      "cell_type": "code",
      "source": [
        "# Handling Missing Values & Missing Value Imputation\n",
        "\n",
        "df.isnull().sum()"
      ],
      "metadata": {
        "id": "iRsAHk1K0fpS"
      },
      "execution_count": null,
      "outputs": []
    },
    {
      "cell_type": "markdown",
      "source": [
        "#### What all missing value imputation techniques have you used and why did you use those techniques?"
      ],
      "metadata": {
        "id": "7wuGOrhz0itI"
      }
    },
    {
      "cell_type": "markdown",
      "source": [
        "The missing data can not with replaced with mean, median or mode, thus deciding to drop the rows ith missing values. As less than 50% of value is missing from column, thus not droppingf the column instead dropping the row."
      ],
      "metadata": {
        "id": "1ixusLtI0pqI"
      }
    },
    {
      "cell_type": "markdown",
      "source": [
        "*RFM Model (Recency, Frequency, Monetary Value)*"
      ],
      "metadata": {
        "id": "YWgmF342SzWH"
      }
    },
    {
      "cell_type": "markdown",
      "source": [
        "\n",
        "\n",
        "Recency, frequency, monetary value is a marketing analysis tool used to identify a company's or an organization's best customers by using certain measures. The RFM model is based on three quantitative factors.\n",
        "\n",
        "Recency: How recently cx purchased.\n",
        "\n",
        "Frequency: How often a customer makes a purchase.\n",
        "\n",
        "Monetary Value: How much money a customer spends on.\n",
        "\n",
        "Performing RFM Segmentation and RFM Analysis, Step by Step\n",
        "\n",
        "The first step in building an RFM model is to assign Recency, Frequency and Monetary values to each customer.\n",
        "\n",
        "The second step is to divide the customer list into tiered groups for each of the three dimensions (R, F and M)"
      ],
      "metadata": {
        "id": "xuh7Z_LFS2KK"
      }
    },
    {
      "cell_type": "code",
      "source": [
        "#Removing all cancelled invoices as it is not useful in customer segmentation.  \n",
        "df['InvoiceNo'] = df['InvoiceNo'].astype('str')\n",
        "df = df[~df['InvoiceNo'].str.contains('C')]"
      ],
      "metadata": {
        "id": "vp0Lk6yTS1sY"
      },
      "execution_count": null,
      "outputs": []
    },
    {
      "cell_type": "code",
      "source": [
        "# creating column for only date\n",
        "df['Invoice_Date'] = df['InvoiceDate'].dt.date\n",
        "snapshot_date = max(df.InvoiceDate) + dt.timedelta(days=1)\n",
        "# Creating dataframe to record RFM score\n",
        "RFM_df = df.groupby(['CustomerID']).agg({\n",
        "    'InvoiceDate': lambda x: (snapshot_date - x.max()).days,\n",
        "    'InvoiceNo': 'count',\n",
        "    'Total_Amount': 'sum'}).reset_index()\n",
        "# Renaming columns\n",
        "RFM_df.rename(columns = {'InvoiceDate': 'Recency',\n",
        "                            'InvoiceNo': 'Frequency',\n",
        "                            'Total_Amount': 'MonetaryValue'}, inplace=True)"
      ],
      "metadata": {
        "id": "drxryu-WTECR"
      },
      "execution_count": null,
      "outputs": []
    },
    {
      "cell_type": "code",
      "source": [
        "RFM_df.head(10)"
      ],
      "metadata": {
        "id": "KZZ-EuW0TJMT"
      },
      "execution_count": null,
      "outputs": []
    },
    {
      "cell_type": "code",
      "source": [
        "plt.figure(figsize = (20 , 10))\n",
        "sns.distplot(RFM_df.Recency)\n",
        "plt.title('Recency Distribution Plot')"
      ],
      "metadata": {
        "id": "CWcEC5d2TPyG"
      },
      "execution_count": null,
      "outputs": []
    },
    {
      "cell_type": "code",
      "source": [
        "plt.figure(figsize = (20,10))\n",
        "sns.distplot(RFM_df.Frequency)\n",
        "plt.title('Frequency Distribution Plot')"
      ],
      "metadata": {
        "id": "YcF6OpQeTT-5"
      },
      "execution_count": null,
      "outputs": []
    },
    {
      "cell_type": "code",
      "source": [
        "plt.figure(figsize = (20 , 10))\n",
        "sns.distplot(RFM_df.MonetaryValue)\n",
        "plt.title('Monetary Distribution Plot')"
      ],
      "metadata": {
        "id": "PVw2Zk4wTT3N"
      },
      "execution_count": null,
      "outputs": []
    },
    {
      "cell_type": "code",
      "source": [
        "plt.figure(figsize = (20,10))\n",
        "sns.heatmap(RFM_df.corr(), annot = True , cmap=sns.diverging_palette(20, 220, n=200))\n",
        "plt.title('Correlation among RFM')"
      ],
      "metadata": {
        "id": "li8GdDR7Tf3e"
      },
      "execution_count": null,
      "outputs": []
    },
    {
      "cell_type": "code",
      "source": [
        "#Splitting into 25, 50, 75 : 4 quantiles.\n",
        "quantiles = RFM_df.quantile(q=[0.25,0.5,0.75])\n",
        "quantiles = quantiles.to_dict()\n",
        "quantiles "
      ],
      "metadata": {
        "id": "Tb0Vff7mTlUN"
      },
      "execution_count": null,
      "outputs": []
    },
    {
      "cell_type": "code",
      "source": [
        "# Functions to create R,F and M segments\n",
        "def RScoring(x,p,d):\n",
        "  if x <= d[p][0.25]:\n",
        "    return 1\n",
        "  elif x <= d[p][0.5]:\n",
        "    return 2\n",
        "  elif x <= d[p][0.75]:\n",
        "    return 3\n",
        "  else:\n",
        "    return 4\n",
        "def FnMScoring(x,p,d):\n",
        "  if x <= d[p][0.25]:\n",
        "    return 4\n",
        "  elif x <= d[p][0.5]:\n",
        "    return 3\n",
        "  elif x <= d[p][0.75]:\n",
        "    return 2\n",
        "  else:\n",
        "    return 1"
      ],
      "metadata": {
        "id": "dbjYZuC2TlQp"
      },
      "execution_count": null,
      "outputs": []
    },
    {
      "cell_type": "code",
      "source": [
        "# Calculate and addd R, F and M segment value columns in the existing dataset to show R, F and M segment values\n",
        "RFM_df['R'] = RFM_df['Recency'].apply(RScoring, args=('Recency',quantiles,))\n",
        "RFM_df['F'] = RFM_df['Frequency'].apply(FnMScoring, args=('Frequency',quantiles,))\n",
        "RFM_df['M'] = RFM_df['MonetaryValue'].apply(FnMScoring, args=('MonetaryValue',quantiles,))\n",
        "RFM_df.head()\n",
        "     "
      ],
      "metadata": {
        "id": "aR55s9dbTlOM"
      },
      "execution_count": null,
      "outputs": []
    },
    {
      "cell_type": "code",
      "source": [
        "#Calculate and Add RFMScore value column showing total sum of RFMGroup values\n",
        "RFM_df['RFMScore'] = RFM_df[['R', 'F', 'M']].sum(axis = 1)\n",
        "RFM_df.head()"
      ],
      "metadata": {
        "id": "DcMZ0tX2TlLg"
      },
      "execution_count": null,
      "outputs": []
    },
    {
      "cell_type": "code",
      "source": [
        "#Making a new column for RFM group\n",
        "RFM_df['RFMGroup'] = RFM_df.R.map(str) + RFM_df.F.map(str) + RFM_df.M.map(str)\n",
        "RFM_df.head()"
      ],
      "metadata": {
        "id": "btgiomX9T4M1"
      },
      "execution_count": null,
      "outputs": []
    },
    {
      "cell_type": "markdown",
      "source": [
        "**Interpretation**\n",
        "\n",
        "RFMScore: It is the sum of R, F and M value that assigned by quantiles.\n",
        "\n",
        "RFMGroup: This is the combination of R,F, and M values.\n",
        "\n",
        "For example:\n",
        "\n",
        "A customer ordered a product 300 days ago, arrived on Online retail platform just once and bought 10$ dollar worth product. According to RFM table he got R = 4(Recency is very low), F = 4(Frequency is very low because he arrived just once) and M = 4(Monetary value is very low). So, the RFMGroup value become 444 means he is the worst customer, we don't need to spend more time on him.\n",
        "\n",
        "Those customer are the best customers who scored R = 1, F = 1 or 2 and M = 1 or 2 means in combination it will give RFMGroup 111,112,121 values like these are good indications"
      ],
      "metadata": {
        "id": "N3m0WPXJUAbY"
      }
    },
    {
      "cell_type": "markdown",
      "source": [
        "### 2. Handling Outliers"
      ],
      "metadata": {
        "id": "id1riN9m0vUs"
      }
    },
    {
      "cell_type": "code",
      "source": [
        "# Handling Outliers & Outlier treatments\n",
        "\n",
        "#Using IQR\n",
        "rfm = ['Recency','Frequency','MonetaryValue']\n",
        "for col in rfm:\n",
        "  Q1 = RFM_df[col].quantile(0.05)\n",
        "  Q3 = RFM_df[col].quantile(0.95)\n",
        "  IQR = Q3 - Q1\n",
        "  RFM_df = RFM_df [(RFM_df[col] >= Q1 - 1.5*IQR) & (RFM_df[col] <= Q3 + 1.5*IQR)]"
      ],
      "metadata": {
        "id": "M6w2CzZf04JK"
      },
      "execution_count": null,
      "outputs": []
    },
    {
      "cell_type": "code",
      "source": [
        "#Updated RFM. \n",
        "RFM_df.head()"
      ],
      "metadata": {
        "id": "uz4Fe1L8UWbJ"
      },
      "execution_count": null,
      "outputs": []
    },
    {
      "cell_type": "markdown",
      "source": [
        "##### What all outlier treatment techniques have you used and why did you use those techniques?"
      ],
      "metadata": {
        "id": "578E2V7j08f6"
      }
    },
    {
      "cell_type": "markdown",
      "source": [
        "I have used IQR method to handle outliers."
      ],
      "metadata": {
        "id": "uGZz5OrT1HH-"
      }
    },
    {
      "cell_type": "markdown",
      "source": [
        "**Plots**:"
      ],
      "metadata": {
        "id": "bLBJIQnuUfjm"
      }
    },
    {
      "cell_type": "code",
      "source": [
        "#Box plot:\n",
        "\n",
        "plt.rcParams['figure.figsize']=(20,10)\n",
        "ax = RFM_df[[\"Recency\",\"Frequency\",\"MonetaryValue\"]].plot(kind='box', title='Boxplot', showmeans=True)\n",
        "plt.show()"
      ],
      "metadata": {
        "id": "KQyrcb5WUgCr"
      },
      "execution_count": null,
      "outputs": []
    },
    {
      "cell_type": "code",
      "source": [
        "#Checking RFM distribution:\n",
        "\n",
        "for col in rfm:\n",
        "  plt.figure(figsize = (15,10))\n",
        "  sns.distplot(RFM_df[col])\n",
        "  plt.title(f'{col} Distribution Plot')"
      ],
      "metadata": {
        "id": "cZNnyAztUwOR"
      },
      "execution_count": null,
      "outputs": []
    },
    {
      "cell_type": "markdown",
      "source": [
        "370 and 797 cx are two group of cx who are good for buisness acc to RFM df.\n",
        "\n",
        "All above distribution in RFM df are right skewed.\n",
        "\n",
        "Making a df to see the cx with higher RFM scores."
      ],
      "metadata": {
        "id": "K69026f5U3JG"
      }
    },
    {
      "cell_type": "code",
      "source": [
        "# Top customers who frequent in all features\n",
        "print(RFM_df[RFM_df['RFMScore'] == 3].sort_values('RFMScore', ascending = False).reset_index().head(10))\n",
        "RFM_df[RFM_df['RFMScore'] == 3].shape"
      ],
      "metadata": {
        "id": "e7wxev60U4Zl"
      },
      "execution_count": null,
      "outputs": []
    },
    {
      "cell_type": "code",
      "source": [
        "print(RFM_df[(RFM_df['RFMScore'] > 3) & (RFM_df['RFMScore'] <= 5)].sort_values('RFMGroup', ascending = False).reset_index().head(10))\n",
        "RFM_df[(RFM_df['RFMScore'] > 3) &(RFM_df['RFMScore'] <= 5)].shape"
      ],
      "metadata": {
        "id": "WKTt7AcuU_r_"
      },
      "execution_count": null,
      "outputs": []
    },
    {
      "cell_type": "markdown",
      "source": [
        "### 3. Data Scaling"
      ],
      "metadata": {
        "id": "rMDnDkt2B6du"
      }
    },
    {
      "cell_type": "code",
      "source": [
        "# Scaling your data\n",
        "\n",
        "Log_rfm_Data = RFM_df[['Recency', 'Frequency', 'MonetaryValue']].apply(np.log1p, axis = 1)"
      ],
      "metadata": {
        "id": "dL9LWpySC6x_"
      },
      "execution_count": null,
      "outputs": []
    },
    {
      "cell_type": "code",
      "source": [
        "rfm_features = ['Recency', 'Frequency', 'MonetaryValue']\n",
        "final_rfm = Log_rfm_Data[rfm_features].values\n",
        "sc = StandardScaler()\n",
        "X = sc.fit_transform(final_rfm)"
      ],
      "metadata": {
        "id": "aImf-QhWVSpG"
      },
      "execution_count": null,
      "outputs": []
    },
    {
      "cell_type": "markdown",
      "source": [
        "## ***7. ML Model Implementation***"
      ],
      "metadata": {
        "id": "VfCC591jGiD4"
      }
    },
    {
      "cell_type": "markdown",
      "source": [
        "### ML Model - 1\n",
        "\n",
        "Implementing K-Means"
      ],
      "metadata": {
        "id": "OB4l2ZhMeS1U"
      }
    },
    {
      "cell_type": "code",
      "source": [
        "# ML Model - 1 Implementation\n",
        "\n",
        "# Fit the Algorithm\n",
        "\n",
        "# Predict on the model"
      ],
      "metadata": {
        "id": "7ebyywQieS1U"
      },
      "execution_count": null,
      "outputs": []
    },
    {
      "cell_type": "code",
      "source": [
        "# ML Model - 1 Implementation\n",
        "model = KMeans(n_clusters=3,max_iter=1000, random_state=10)\n",
        "# Fit the Algorithm\n",
        "cluster_labels = model.fit_predict(X)\n",
        "print(cluster_labels)"
      ],
      "metadata": {
        "id": "afiUocwSVnIl"
      },
      "execution_count": null,
      "outputs": []
    },
    {
      "cell_type": "code",
      "source": [
        "#Plot \n",
        "\n",
        "plt.figure(figsize = (20,10))\n",
        "plt.scatter(X[:, 0], X[:, 1], c=cluster_labels, s=50 , cmap='viridis')\n",
        "\n",
        "centers = model.cluster_centers_\n",
        "plt.scatter(centers[:, 0], centers[:, 1], c='black', s=200, alpha=0.5)\n",
        "plt.title('K-Means clustering with 3 clusters.',fontweight = 'bold')"
      ],
      "metadata": {
        "id": "ddFGHwtdVr99"
      },
      "execution_count": null,
      "outputs": []
    },
    {
      "cell_type": "code",
      "source": [
        "model.cluster_centers_"
      ],
      "metadata": {
        "id": "bHJb5NYGVzQn"
      },
      "execution_count": null,
      "outputs": []
    },
    {
      "cell_type": "code",
      "source": [
        "#Assigning labels\n",
        "\n",
        "RFM_df['Cluster_Id'] =cluster_labels[0:4256]\n",
        "print(RFM_df.head(6))"
      ],
      "metadata": {
        "id": "DqBzA2FIV5rv"
      },
      "execution_count": null,
      "outputs": []
    },
    {
      "cell_type": "code",
      "source": [
        "#Group by Cluster ID. \n",
        "\n",
        "RFM_df.groupby('Cluster_Id').mean()"
      ],
      "metadata": {
        "id": "GzYRdBgBVzNS"
      },
      "execution_count": null,
      "outputs": []
    },
    {
      "cell_type": "code",
      "source": [
        "#Number of cx in each clusters:\n",
        "\n",
        "RFM_df['Cluster_Id'].value_counts()"
      ],
      "metadata": {
        "id": "C72BXAMqVzEn"
      },
      "execution_count": null,
      "outputs": []
    },
    {
      "cell_type": "markdown",
      "source": [
        "**Clusters details**"
      ],
      "metadata": {
        "id": "63FEE2NDWHiZ"
      }
    },
    {
      "cell_type": "markdown",
      "source": [
        "Cluster 0: The group of customers of whom Recency is very low, frequencies are very less and Company is generating only few bucks.\n",
        "\n",
        "Cluster 1: This cluster give the insights that these are marked with less frequency but more frequent than cluster 0 and company is making more money than cluster 0.\n",
        "\n",
        "Cluster 2: These are one who visits more, they are more frequent and they are helping to generate a lot of business"
      ],
      "metadata": {
        "id": "bu7LbfupWPj-"
      }
    },
    {
      "cell_type": "markdown",
      "source": [
        "Obsevations:"
      ],
      "metadata": {
        "id": "uDbXwl3VWSge"
      }
    },
    {
      "cell_type": "markdown",
      "source": [
        "Cluster 1 have the most cx, followed by cluster 0 and cluster 2. The company needs to push more and more cx from cluster 1 and 0 towards 2 and work on keeping cluster 1 more happy."
      ],
      "metadata": {
        "id": "jNVnZ8KnWVdp"
      }
    },
    {
      "cell_type": "markdown",
      "source": [
        "### ML Model - 2\n",
        "\n",
        "Implementing k-Means Clustering with Silhouette"
      ],
      "metadata": {
        "id": "dJ2tPlVmpsJ0"
      }
    },
    {
      "cell_type": "code",
      "source": [
        "#Setting range:\n",
        "\n",
        "cluster_range = [2,3,4,5,7,8,10]"
      ],
      "metadata": {
        "id": "J2z959biWv6d"
      },
      "execution_count": null,
      "outputs": []
    },
    {
      "cell_type": "code",
      "source": [
        "for n_clusters in cluster_range:\n",
        "    # Create a subplot with 1 row and 2 columns\n",
        "    fig, (ax1, ax2) = plt.subplots(1, 2)\n",
        "    fig.set_size_inches(16, 7)\n",
        "\n",
        "    # The 1st subplot is the silhouette plot\n",
        "    # The silhouette coefficient can range from -1, 1 but in this example all\n",
        "    # lie within [-0.1, 1]\n",
        "    ax1.set_xlim([-0.1, 1])\n",
        "    # The (n_clusters+1)*10 is for inserting blank space between silhouette\n",
        "    # plots of individual clusters, to demarcate them clearly.\n",
        "    ax1.set_ylim([0, len(X) + (n_clusters + 1) * 10])\n",
        "\n",
        "    # Initialize the clusterer with n_clusters value and a random generator\n",
        "    # seed of 10 for reproducibility.\n",
        "    clusterer = KMeans(n_clusters=n_clusters, random_state= 1)\n",
        "    cluster_labels = clusterer.fit_predict(X)\n",
        "\n",
        "    # The silhouette_score gives the average value for all the samples.\n",
        "    # This gives a perspective into the density and separation of the formed\n",
        "    # clusters\n",
        "    silhouette_avg = silhouette_score(X, cluster_labels)\n",
        "    print(f\"For n_clusters = {n_clusters}, The average silhouette_score is :{silhouette_avg}.\")\n",
        "\n",
        "    # Compute the silhouette scores for each sample\n",
        "    sample_silhouette_values = silhouette_samples(X, cluster_labels)\n",
        "\n",
        "    y_lower = 10\n",
        "    for i in range(n_clusters):\n",
        "        # Aggregate the silhouette scores for samples belonging to\n",
        "        # cluster i, and sort them\n",
        "        ith_cluster_silhouette_values = \\\n",
        "            sample_silhouette_values[cluster_labels == i]\n",
        "\n",
        "        ith_cluster_silhouette_values.sort()\n",
        "\n",
        "        size_cluster_i = ith_cluster_silhouette_values.shape[0]\n",
        "        y_upper = y_lower + size_cluster_i\n",
        "\n",
        "        color = cm.nipy_spectral(float(i) / n_clusters)\n",
        "        ax1.fill_betweenx(np.arange(y_lower, y_upper),\n",
        "                          0, ith_cluster_silhouette_values,\n",
        "                          facecolor=color, edgecolor=color, alpha=0.7)\n",
        "\n",
        "        # Label the silhouette plots with their cluster numbers at the middle\n",
        "        ax1.text(-0.05, y_lower + 0.5 * size_cluster_i, str(i))\n",
        "\n",
        "        # Compute the new y_lower for next plot\n",
        "        y_lower = y_upper + 10  # 10 for the 0 samplesax1.set_title(f\"The silhouette plot for the {n_clusters} clusters.\",fontweight = 'bold')\n",
        "    ax1.set_xlabel(\"The silhouette coefficient values\",fontweight = 'bold')\n",
        "    ax1.set_ylabel(\"Cluster label\", fontweight = 'bold')\n",
        "\n",
        "    # The vertical line for average silhouette score of all the values\n",
        "    ax1.axvline(x=silhouette_avg, color=\"red\", linestyle=\"--\")\n",
        "\n",
        "    ax1.set_yticks([])  # Clear the yaxis labels / ticks\n",
        "    ax1.set_xticks([-0.1, 0, 0.2, 0.4, 0.6, 0.8, 1])\n",
        "\n",
        "    # 2nd Plot showing the actual clusters formed\n",
        "    colors = cm.nipy_spectral(cluster_labels.astype(float) / n_clusters)\n",
        "    ax2.scatter(X[:, 0], X[:, 1], marker='.', s=30, lw=0, alpha=0.7,\n",
        "                c=colors, edgecolor='k')\n",
        "\n",
        "    # Cluster label\n",
        "    centers = clusterer.cluster_centers_\n",
        "    # Drawing white circles at cluster centers\n",
        "    ax2.scatter(centers[:, 0], centers[:, 1], marker='o',\n",
        "                c=\"white\", alpha=1, s=200, edgecolor='k')\n",
        "\n",
        "   \n",
        "\n",
        "    ax2.set_title(\"The visualization of the clustered data.\",fontweight = 'bold')\n",
        "    ax2.set_xlabel(\"Feature space for the 1st feature\",fontweight = 'bold')\n",
        "    ax2.set_ylabel(\"Feature space for the 2nd feature\",fontweight = 'bold')\n",
        "\n",
        "    plt.suptitle((f'Silhouette analysis for KMeans clustering on sample data with n_clusters = {n_clusters}'),\n",
        "                 fontsize=14, fontweight='bold')\n",
        "\n",
        "plt.show()"
      ],
      "metadata": {
        "id": "MAQhVtafdyxS"
      },
      "execution_count": null,
      "outputs": []
    },
    {
      "cell_type": "markdown",
      "source": [
        "With n = 2 , silhoutte score is 0.39. There are less change of assigning cx in wrong clusters here as clusters are far away."
      ],
      "metadata": {
        "id": "z8SHx-sGfo2G"
      }
    },
    {
      "cell_type": "markdown",
      "source": [
        "### ML Model - 3\n",
        "\n",
        "Implementing K-Means with Elbow Method"
      ],
      "metadata": {
        "id": "Fze-IPXLpx6K"
      }
    },
    {
      "cell_type": "code",
      "source": [
        "model3 = KMeans()"
      ],
      "metadata": {
        "id": "UhNXms0ygC4o"
      },
      "execution_count": null,
      "outputs": []
    },
    {
      "cell_type": "code",
      "source": [
        "#Finding best number of clusters\n",
        "def elbow_method(X):\n",
        "  ''' Displays elbow curves with different metrics '''\n",
        "  \n",
        "  metrics = ['distortion', 'calinski_harabasz', 'silhouette']\n",
        "  \n",
        "  for m in metrics:\n",
        "    visualizer = KElbowVisualizer(model3, k = (2,10), metric = m)\n",
        "    visualizer.fit(X)\n",
        "    visualizer.poof()"
      ],
      "metadata": {
        "id": "hQfUjDJff8D1"
      },
      "execution_count": null,
      "outputs": []
    },
    {
      "cell_type": "code",
      "source": [
        "#Plot. \n",
        "\n",
        "elbow_method(Log_rfm_Data)"
      ],
      "metadata": {
        "id": "Vlmt58l7gJL0"
      },
      "execution_count": null,
      "outputs": []
    },
    {
      "cell_type": "code",
      "source": [
        "# within cluster sum of squares:\n",
        "wcss = []\n",
        "\n",
        "for i in range(1,11):\n",
        "    kmeans=KMeans(n_clusters=i, init='k-means++',random_state=0)\n",
        "    kmeans.fit(X)\n",
        "    wcss.append(kmeans.inertia_)\n",
        "\n",
        "# plotting curve\n",
        "\n",
        "plt.figure(figsize = (9,6))\n",
        "plt.grid(True)\n",
        "plt.plot(range(1,11),wcss)\n",
        "plt.title('The Elbow curve',fontweight = 'bold')\n",
        "plt.xlabel('Number of Clusters',fontweight = 'bold')\n",
        "plt.ylabel('WCSS', fontweight = 'bold')\n",
        "plt.show()\n",
        "     "
      ],
      "metadata": {
        "id": "0Br1uMi9gR9m"
      },
      "execution_count": null,
      "outputs": []
    },
    {
      "cell_type": "markdown",
      "source": [
        "Best cluster number is 4(acc to elbow method). After that there is slight decrease in wcs"
      ],
      "metadata": {
        "id": "DT-IZ97XgYB_"
      }
    },
    {
      "cell_type": "markdown",
      "source": [
        "**ML Model - 4**\n",
        "\n",
        "Implementing Hierarchical Clustering"
      ],
      "metadata": {
        "id": "s3O_TL8-gjDh"
      }
    },
    {
      "cell_type": "code",
      "source": [
        "model4 = AgglomerativeClustering(n_clusters = 3, affinity = 'euclidean', linkage = 'ward')\n",
        "y_hc = model4.fit_predict(X)"
      ],
      "metadata": {
        "id": "KseAy8TKgyPa"
      },
      "execution_count": null,
      "outputs": []
    },
    {
      "cell_type": "code",
      "source": [
        "plt.figure(figsize=(15,8))\n",
        "plt.scatter(X[y_hc == 0, 0], X[y_hc == 0, 1], s = 100, c = 'magenta', label = 'Cluster_1')\n",
        "plt.scatter(X[y_hc == 1, 0], X[y_hc == 1, 1], s = 100, c = 'darkblue', label = 'Cluster_2')\n",
        "plt.scatter(X[y_hc == 2, 0], X[y_hc == 2, 1], s = 100, c = 'green', label = 'Cluster_3')      \n",
        "\n",
        "plt.title('CX Clusters', size = 20)\n",
        "plt.xlabel('RFM', fontweight = 'bold')\n",
        "plt.ylabel('Spending Score', size = 15, fontweight = 'bold')\n",
        "plt.legend()\n",
        "plt.show()"
      ],
      "metadata": {
        "id": "opsBFvGwg1qv"
      },
      "execution_count": null,
      "outputs": []
    },
    {
      "cell_type": "code",
      "source": [
        "#Dendogram plot: for best cluster number:\n",
        "\n",
        "rcParams['figure.figsize'] = 15, 10\n",
        "\n",
        "# max_d = cut-off/ Threshold value\n",
        "max_d = 50\n",
        "\n",
        "dendrogram = sch.dendrogram(sch.linkage(X, method = 'ward'))\n",
        "plt.title('Dendrogram',fontweight = 'bold')\n",
        "plt.xlabel('Customers',fontweight = 'bold')\n",
        "plt.ylabel('Euclidean Distances',fontweight = 'bold')\n",
        "#Cutting it on threshold value, 50.\n",
        "plt.axhline(y = max_d,c = 'k')\n",
        "plt.show()"
      ],
      "metadata": {
        "id": "O05YftPTg7GE"
      },
      "execution_count": null,
      "outputs": []
    },
    {
      "cell_type": "markdown",
      "source": [
        "By choosing max_d = 50, we are getting three intersection or say three clusters. By choosing max_d vaue, we will get diffferent cluster numbers."
      ],
      "metadata": {
        "id": "8nUj5h7Ug_0v"
      }
    },
    {
      "cell_type": "code",
      "source": [
        "final_table = PrettyTable(['Sr. No.',\"Model_Name\",'Data', \"Optimal_Number_of_cluster\"]) \n",
        "  \n",
        "# Add rows \n",
        "final_table.add_row(['1','K-Means','RFM',\"3\"])\n",
        "final_table.add_row(['2',\"K-Means with silhouette_score \", \"RFM\", \"2\"]) \n",
        "final_table.add_row(['3',\"K-Means with Elbow method  \", \"RFM\", \"4\"])\n",
        "final_table.add_row(['4',\"Hierarchical clustering  \", \"RFM\", \"2\"])\n",
        "final_table.add_row(['5',\"Hierarchical clustering after Cut-off \", \"RFM\", \"3\"])\n",
        "print(final_table)"
      ],
      "metadata": {
        "id": "yr2lFyNVhcjo"
      },
      "execution_count": null,
      "outputs": []
    },
    {
      "cell_type": "markdown",
      "source": [
        "1. Which ML model did you choose from the above created models as your final prediction model and why?"
      ],
      "metadata": {
        "id": "93LW8XCThI_L"
      }
    },
    {
      "cell_type": "markdown",
      "source": [
        "I am using K mean cluster as our model, as it's dividing the customers in 3 clusters according to there website visiting nature. 2 cluster as suggested by hierarchical clustering is too low to divide the customer, thus 3 clusters will help us in making better buisness and advertisment stratergy.\n",
        "\n",
        "Cluster 0 or New customers(considered): The group of customers of whom Recency is very low, frequencies are very less and Company is generating only few bucks.\n",
        "\n",
        "Cluster 1 or casual customer: This cluster give the insights that these are marked with less frequency but more frequent than cluster 0 and company is making more money than cluster 0.\n",
        "\n",
        "Cluster 2 or loyal customer: These are one who visits more, they are more frequent and they are helping to generate a lot of business"
      ],
      "metadata": {
        "id": "2zo4qtSnhNqh"
      }
    },
    {
      "cell_type": "markdown",
      "source": [],
      "metadata": {
        "id": "eDwJKsgphKJi"
      }
    },
    {
      "cell_type": "markdown",
      "source": [],
      "metadata": {
        "id": "IaFU4Ir-gnOq"
      }
    },
    {
      "cell_type": "markdown",
      "source": [
        "# **Conclusion**"
      ],
      "metadata": {
        "id": "gCX9965dhzqZ"
      }
    },
    {
      "cell_type": "markdown",
      "source": [
        "Following are the conclusion made during EDA:\n",
        "\n",
        "Top Five Countries: Uniter Kingdom, Germany, France, Ireland and Spain.\n",
        "\n",
        "Month which give maximum business: November, October, December, September and May.\n",
        "\n",
        "Maximum purchasing on different days: Thursday > Wednesday > Tuesday > Monday > Saturday > Friday.\n",
        "\n",
        "Most of the customers usually purchase products in between 10:00 A.M to 3:00 P.M.\n",
        "\n",
        "The company should make sure that the website server is up and running during that hrs, and also invest on cx support during that hrs.\n",
        "\n",
        "WHITE HANGING HEART T-LIGHT HOLDER > REGENCY CAKESTAND 3 TIER> JUMBO BAG RED RETROSPOT were ordered with top 3 highest frequency.\n",
        "The company is suggested to keep the inventory always stocked with these products.\n",
        "\n",
        "GLASS AND BEADS BRACELET IVORY , CROCHET LILAC/RED BEAR KEYRING , PINK BAROQUE FLOCK CANDLE HOLDER were ordered in the lowest number.\n",
        "\n",
        "A number of cx also cancelled the order. The company should ideally look into it.\n",
        "\n",
        "Following is the number of clusters suggested by different ML algorithm:\n",
        "\n",
        "K-Means = Optimal Clusters(3)\n",
        "\n",
        "K-Means with Silhoutte = Optimal_Clusters: (2)\n",
        "\n",
        "K-Means with Elbow Method = Optimal_Clusters: (4)\n",
        "\n",
        "Hierarchical Clustering = Optimal_Clusters: (2)\n",
        "\n",
        "Hierarchical Clustering with cut-off = Optimal_Cluster: (3)"
      ],
      "metadata": {
        "id": "Fjb1IsQkh3yE"
      }
    },
    {
      "cell_type": "markdown",
      "source": [
        "### ***Hurrah! You have successfully completed your Machine Learning Capstone Project !!!***"
      ],
      "metadata": {
        "id": "gIfDvo9L0UH2"
      }
    }
  ]
}