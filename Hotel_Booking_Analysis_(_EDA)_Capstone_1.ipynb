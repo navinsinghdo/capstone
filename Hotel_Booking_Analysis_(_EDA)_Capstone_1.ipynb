{
  "nbformat": 4,
  "nbformat_minor": 0,
  "metadata": {
    "colab": {
      "private_outputs": true,
      "provenance": [],
      "collapsed_sections": [
        "vncDsAP0Gaoa",
        "FJNUwmbgGyua",
        "w6K7xa23Elo4",
        "yQaldy8SH6Dl",
        "PH-0ReGfmX4f",
        "mDgbUHAGgjLW",
        "O_i_v8NEhb9l",
        "HhfV-JJviCcP",
        "Y3lxredqlCYt",
        "3RnN4peoiCZX",
        "x71ZqKXriCWQ",
        "7hBIi_osiCS2",
        "JlHwYmJAmNHm",
        "35m5QtbWiB9F",
        "PoPl-ycgm1ru",
        "H0kj-8xxnORC",
        "nA9Y7ga8ng1Z",
        "PBTbrJXOngz2",
        "u3PMJOP6ngxN",
        "dauF4eBmngu3",
        "bKJF3rekwFvQ",
        "MSa1f5Uengrz",
        "GF8Ens_Soomf",
        "0wOQAZs5pc--",
        "K5QZ13OEpz2H",
        "lQ7QKXXCp7Bj",
        "448CDAPjqfQr",
        "KSlN3yHqYklG",
        "t6dVpIINYklI",
        "ijmpgYnKYklI",
        "-JiQyfWJYklI",
        "EM7whBJCYoAo",
        "fge-S5ZAYoAp",
        "85gYPyotYoAp",
        "RoGjAbkUYoAp",
        "4Of9eVA-YrdM",
        "iky9q4vBYrdO",
        "F6T5p64dYrdO",
        "y-Ehk30pYrdP",
        "bamQiAODYuh1",
        "QHF8YVU7Yuh3",
        "GwzvFGzlYuh3",
        "qYpmQ266Yuh3",
        "OH-pJp9IphqM",
        "bbFf2-_FphqN",
        "_ouA3fa0phqN",
        "Seke61FWphqN",
        "PIIx-8_IphqN",
        "t27r6nlMphqO",
        "r2jJGEOYphqO",
        "b0JNsNcRphqO",
        "BZR9WyysphqO",
        "jj7wYXLtphqO",
        "eZrbJ2SmphqO",
        "rFu4xreNphqO",
        "YJ55k-q6phqO",
        "gCFgpxoyphqP",
        "OVtJsKN_phqQ",
        "lssrdh5qphqQ",
        "U2RJ9gkRphqQ",
        "1M8mcRywphqQ",
        "tgIPom80phqQ",
        "JMzcOPDDphqR",
        "x-EpHcCOp1ci",
        "X_VqEhTip1ck",
        "8zGJKyg5p1ck",
        "PVzmfK_Ep1ck",
        "n3dbpmDWp1ck",
        "ylSl6qgtp1ck",
        "ZWILFDl5p1ck",
        "M7G43BXep1ck",
        "Ag9LCva-p1cl",
        "E6MkPsBcp1cl",
        "2cELzS2fp1cl",
        "3MPXvC8up1cl",
        "NC_X3p0fY2L0",
        "UV0SzAkaZNRQ",
        "YPEH6qLeZNRQ",
        "q29F0dvdveiT",
        "EXh0U9oCveiU",
        "22aHeOlLveiV",
        "JcMwzZxoAimU",
        "8G2x9gOozGDZ",
        "gCX9965dhzqZ",
        "gIfDvo9L0UH2"
      ],
      "include_colab_link": true
    },
    "kernelspec": {
      "name": "python3",
      "display_name": "Python 3"
    },
    "language_info": {
      "name": "python"
    }
  },
  "cells": [
    {
      "cell_type": "markdown",
      "metadata": {
        "id": "view-in-github",
        "colab_type": "text"
      },
      "source": [
        "<a href=\"https://colab.research.google.com/github/navinsinghdo/capstone/blob/main/Hotel_Booking_Analysis_(_EDA)_Capstone_1.ipynb\" target=\"_parent\"><img src=\"https://colab.research.google.com/assets/colab-badge.svg\" alt=\"Open In Colab\"/></a>"
      ]
    },
    {
      "cell_type": "markdown",
      "source": [
        "Hotel Booking Analysis - \n",
        "\n"
      ],
      "metadata": {
        "id": "vncDsAP0Gaoa"
      }
    },
    {
      "cell_type": "markdown",
      "source": [
        "##### **Project Type**    - EDA\n",
        "##### **Contribution**    - Individual\n"
      ],
      "metadata": {
        "id": "beRrZCGUAJYm"
      }
    },
    {
      "cell_type": "markdown",
      "source": [
        "# **GitHub Link -**"
      ],
      "metadata": {
        "id": "w6K7xa23Elo4"
      }
    },
    {
      "cell_type": "markdown",
      "source": [
        "Provide your GitHub Link here."
      ],
      "metadata": {
        "id": "h1o69JH3Eqqn"
      }
    },
    {
      "cell_type": "markdown",
      "source": [
        "# **Problem Statement**\n"
      ],
      "metadata": {
        "id": "yQaldy8SH6Dl"
      }
    },
    {
      "cell_type": "markdown",
      "source": [
        "Have you ever wondered when the best time of year to book a hotel room is? or the optimal length of stay in order to get the best daily rate? What if you wanted to predict weather or not a hotel was likely to recieve a disproportionately high number of special requests? The hotel booking dataset can help you explore those questions! this dataset contains booking information for a city hotel and a resort hotel, and includes information such as when the booking was made, length of stay, the number of adults, children, and/or babies, and tghe number of available parking spaces, among other things. All personally identifying information has been removed from the data. Explore and analyze the data to discover important factors that govern the bookings."
      ],
      "metadata": {
        "id": "DpeJGUA3kjGy"
      }
    },
    {
      "cell_type": "markdown",
      "source": [
        "#### **Define Your Business Objective?**"
      ],
      "metadata": {
        "id": "PH-0ReGfmX4f"
      }
    },
    {
      "cell_type": "markdown",
      "source": [
        "Objective: To analyse and visualize differnt aspects of hotel business and extract useful information out of business requirements. To identify which channels leads to high bookings, which hotel types and food types have higher preferences,etc. and thus make useful decision out of it."
      ],
      "metadata": {
        "id": "PhDvGCAqmjP1"
      }
    },
    {
      "cell_type": "markdown",
      "source": [
        "# ***Let's Begin !***"
      ],
      "metadata": {
        "id": "O_i_v8NEhb9l"
      }
    },
    {
      "cell_type": "markdown",
      "source": [
        "## ***1. Know Your Data***"
      ],
      "metadata": {
        "id": "HhfV-JJviCcP"
      }
    },
    {
      "cell_type": "markdown",
      "source": [
        "### Import Libraries"
      ],
      "metadata": {
        "id": "Y3lxredqlCYt"
      }
    },
    {
      "cell_type": "code",
      "source": [
        "# Import Libraries\n",
        "\n",
        "import numpy as numpy\n",
        "import pandas as pd\n",
        "import missingno as msno\n",
        "import matplotlib\n",
        "import matplotlib.pyplot as plt\n",
        "import seaborn as sns \n",
        "%matplotlib inline"
      ],
      "metadata": {
        "id": "M8Vqi-pPk-HR"
      },
      "execution_count": null,
      "outputs": []
    },
    {
      "cell_type": "markdown",
      "source": [
        "### Dataset Loading"
      ],
      "metadata": {
        "id": "3RnN4peoiCZX"
      }
    },
    {
      "cell_type": "code",
      "source": [
        "# Load Dataset\n",
        "\n",
        "from google.colab import drive\n",
        "drive.mount('/content/drive/')"
      ],
      "metadata": {
        "id": "4CkvbW_SlZ_R"
      },
      "execution_count": null,
      "outputs": []
    },
    {
      "cell_type": "code",
      "source": [
        "hotel_df = pd.read_csv('/content/drive/MyDrive/AlmaBetter/Hotel_Bookings.csv')"
      ],
      "metadata": {
        "id": "K-lcJUFgWOr1"
      },
      "execution_count": null,
      "outputs": []
    },
    {
      "cell_type": "markdown",
      "source": [
        "### Dataset First View"
      ],
      "metadata": {
        "id": "x71ZqKXriCWQ"
      }
    },
    {
      "cell_type": "code",
      "source": [
        "# Dataset First Look\n",
        "\n",
        "hotel_df.head()"
      ],
      "metadata": {
        "id": "LWNFOSvLl09H"
      },
      "execution_count": null,
      "outputs": []
    },
    {
      "cell_type": "markdown",
      "source": [
        "### Dataset Rows & Columns count"
      ],
      "metadata": {
        "id": "7hBIi_osiCS2"
      }
    },
    {
      "cell_type": "code",
      "source": [
        "# Dataset Rows & Columns count\n",
        "\n",
        "hotel_df.shape"
      ],
      "metadata": {
        "id": "Kllu7SJgmLij"
      },
      "execution_count": null,
      "outputs": []
    },
    {
      "cell_type": "markdown",
      "source": [
        "### Dataset Information"
      ],
      "metadata": {
        "id": "JlHwYmJAmNHm"
      }
    },
    {
      "cell_type": "code",
      "source": [
        "# Dataset Info\n",
        "\n",
        "hotel_df.info()"
      ],
      "metadata": {
        "id": "e9hRXRi6meOf"
      },
      "execution_count": null,
      "outputs": []
    },
    {
      "cell_type": "markdown",
      "source": [
        "#### Duplicate Values"
      ],
      "metadata": {
        "id": "35m5QtbWiB9F"
      }
    },
    {
      "cell_type": "code",
      "source": [
        "# Dataset Duplicate Value Count\n",
        "\n",
        "hotel_df.duplicated().sum()"
      ],
      "metadata": {
        "id": "1sLdpKYkmox0"
      },
      "execution_count": null,
      "outputs": []
    },
    {
      "cell_type": "markdown",
      "source": [
        "#### Missing Values/Null Values"
      ],
      "metadata": {
        "id": "PoPl-ycgm1ru"
      }
    },
    {
      "cell_type": "code",
      "source": [
        "# Missing Values/Null Values Count\n",
        "\n",
        "hotel_df.isnull().sum()"
      ],
      "metadata": {
        "id": "GgHWkxvamxVg"
      },
      "execution_count": null,
      "outputs": []
    },
    {
      "cell_type": "code",
      "source": [
        "# Visualizing the missing values\n",
        "\n",
        "plt.figure(figsize = (10,20))\n",
        "msno.bar(hotel_df)"
      ],
      "metadata": {
        "id": "3q5wnI3om9sJ"
      },
      "execution_count": null,
      "outputs": []
    },
    {
      "cell_type": "markdown",
      "source": [
        "### What did you know about your dataset?"
      ],
      "metadata": {
        "id": "H0kj-8xxnORC"
      }
    },
    {
      "cell_type": "markdown",
      "source": [
        "1. Dataset contains multiple data type like int, float, object.\n",
        "2. Dataset contains 31994 duplicates.\n",
        "3. dtaset contains Null values in 3 of its features country, agent and company."
      ],
      "metadata": {
        "id": "gfoNAAC-nUe_"
      }
    },
    {
      "cell_type": "markdown",
      "source": [
        "## ***2. Understanding Your Variables***"
      ],
      "metadata": {
        "id": "nA9Y7ga8ng1Z"
      }
    },
    {
      "cell_type": "code",
      "source": [
        "# Dataset Columns\n",
        "\n",
        "hotel_df.columns"
      ],
      "metadata": {
        "id": "j7xfkqrt5Ag5"
      },
      "execution_count": null,
      "outputs": []
    },
    {
      "cell_type": "code",
      "source": [
        "# Dataset Describe\n",
        "\n",
        "hotel_df.describe()"
      ],
      "metadata": {
        "id": "DnOaZdaE5Q5t"
      },
      "execution_count": null,
      "outputs": []
    },
    {
      "cell_type": "markdown",
      "source": [
        "### Variables Description "
      ],
      "metadata": {
        "id": "PBTbrJXOngz2"
      }
    },
    {
      "cell_type": "markdown",
      "source": [
        "**hotel:** Resort Hotel/City Hotel\n",
        "\n",
        "**is_cancelled:** if the booking was cancelled 1/ not cancelled 0\n",
        "\n",
        "**lead_time:** number of days between the entering date of the booking into the PMS and the arrival date\n",
        "\n",
        "**arrival_date_year:** Year of arrival \n",
        "\n",
        "**arrival_date_month:** Month of arrival\n",
        "\n",
        "**arrival_date_week_number:** Week of the year\n",
        "\n",
        "**arrival_date_day__of_month:** Day of arrival\n",
        "\n",
        "**stays_in_weekend_nights:** Number of weekend(saturday and sunday) nights\n",
        "\n",
        "**stays_in_week_nights:** Number of week(monday to friday) nights\n",
        "\n",
        "**adults:** Number of adults\n",
        "\n",
        "**children:** Number of children\n",
        "\n",
        "**babies:** Number of babies\n",
        "\n",
        "**meal:** Type of meal prefered\n",
        "\n",
        "**country:** Country of origin\n",
        "\n",
        "**market_segment:** TA for travel agent and TO for tour operators\n",
        "\n",
        "**is_repeated_guest:** Repeated guest 1/ not repeated guest 0\n",
        "\n",
        "**previous_cancellation:** Number of previous bookings cancelled \n",
        "\n",
        "**previous_booking_not_cancelled:** Number of previous bookings not cancelled\n",
        "\n",
        "**reserved_room_type:** Code of room type reserved\n",
        "\n",
        "**assigned_room_type:** Code of the type of room assigned\n",
        "\n",
        "**booking_changes:** Number of changes made between booking and check_in or cancellation\n",
        "\n",
        "**deposit_type:** Tells customer made a deposit to guarantee the booking\n",
        "\n",
        "**agent:** ID of travel agency/company that made the booking\n",
        "\n",
        "**days_in_waiting_list:** Number of days booking was in waiting list before getting confirmed\n",
        "\n",
        "**customet_type:** Type of customer\n",
        "\n",
        "**adr:** Average Daily Rate = sum of all lodging transactions\n",
        "\n",
        "**required_car_parking_spaces:** number of car parking space required\n",
        "\n",
        "**total_of_special_requests:** Number of special requests made by customer\n",
        "\n",
        "**reservation_status:** Reservation last status(cancelled/check-out/No-show)\n",
        "\n",
        "**reservation_status_date:** Date when last status was set\n",
        "\n",
        "\n",
        "\n",
        "\n",
        "\n",
        "\n"
      ],
      "metadata": {
        "id": "aJV4KIxSnxay"
      }
    },
    {
      "cell_type": "markdown",
      "source": [
        "### Check Unique Values for each variable."
      ],
      "metadata": {
        "id": "u3PMJOP6ngxN"
      }
    },
    {
      "cell_type": "code",
      "source": [
        "# Check Unique Values for each variable.\n",
        "\n",
        "for i in hotel_df.columns.tolist():\n",
        "  print(\"No. of unique values in \",i,\"is\",hotel_df[i].nunique(),\".\")"
      ],
      "metadata": {
        "id": "zms12Yq5n-jE"
      },
      "execution_count": null,
      "outputs": []
    },
    {
      "cell_type": "markdown",
      "source": [
        "## 3. ***Data Wrangling***"
      ],
      "metadata": {
        "id": "dauF4eBmngu3"
      }
    },
    {
      "cell_type": "markdown",
      "source": [
        "### Data Wrangling Code"
      ],
      "metadata": {
        "id": "bKJF3rekwFvQ"
      }
    },
    {
      "cell_type": "code",
      "source": [
        "# Write your code to make your dataset analysis ready.\n",
        "hotel_df.isnull().sum()"
      ],
      "metadata": {
        "id": "wk-9a2fpoLcV"
      },
      "execution_count": null,
      "outputs": []
    },
    {
      "cell_type": "code",
      "source": [
        "column_nan = ['agent', 'company']\n",
        "\n",
        "for col in column_nan:\n",
        "  hotel_df[col].fillna(0,inplace = True)"
      ],
      "metadata": {
        "id": "uAa65s5lj3SB"
      },
      "execution_count": null,
      "outputs": []
    },
    {
      "cell_type": "code",
      "source": [
        "hotel_df['country'].fillna('Not available', inplace = True)"
      ],
      "metadata": {
        "id": "-MpZhKn-j3Om"
      },
      "execution_count": null,
      "outputs": []
    },
    {
      "cell_type": "code",
      "source": [
        "hotel_df.isnull().sum()"
      ],
      "metadata": {
        "id": "e4GwxA6Hj3L9"
      },
      "execution_count": null,
      "outputs": []
    },
    {
      "cell_type": "code",
      "source": [
        "duplicate = hotel_df[hotel_df.duplicated()]"
      ],
      "metadata": {
        "id": "YWGDn1S-j3JW"
      },
      "execution_count": null,
      "outputs": []
    },
    {
      "cell_type": "code",
      "source": [
        "hotel_df.duplicated().value_counts()"
      ],
      "metadata": {
        "id": "Oi9U7tPCj3Gj"
      },
      "execution_count": null,
      "outputs": []
    },
    {
      "cell_type": "code",
      "source": [
        "hotel_df = hotel_df.drop_duplicates()"
      ],
      "metadata": {
        "id": "2VkJ3WQAj3D7"
      },
      "execution_count": null,
      "outputs": []
    },
    {
      "cell_type": "code",
      "source": [
        "hotel_df.shape"
      ],
      "metadata": {
        "id": "Mxrb5BQzj3BR"
      },
      "execution_count": null,
      "outputs": []
    },
    {
      "cell_type": "code",
      "source": [
        "hotel_df['total stay'] = hotel_df['stays_in_weekend_nights'] + hotel_df['stays_in_week_nights'] "
      ],
      "metadata": {
        "id": "klV67HU7j2-x"
      },
      "execution_count": null,
      "outputs": []
    },
    {
      "cell_type": "code",
      "source": [
        "df_uncancelled = hotel_df[hotel_df['is_canceled'] == 0]"
      ],
      "metadata": {
        "id": "K401kKHuj28V"
      },
      "execution_count": null,
      "outputs": []
    },
    {
      "cell_type": "markdown",
      "source": [
        "### What all manipulations have you done and insights you found?"
      ],
      "metadata": {
        "id": "MSa1f5Uengrz"
      }
    },
    {
      "cell_type": "markdown",
      "source": [
        "I have replaced all the NA values by replacing int types with 0, due to buisness use case of this particular project and replaced string type with 'Not available'.\n",
        "I have also dropped all duplicate rows.\n",
        "I have added a column called 'Total stay' to better understand staying habit of guests.\n",
        "I have also made an additional data frame where I will analyze booking trend by month. In this data frame I used data of rows only where the booking was not cancelled"
      ],
      "metadata": {
        "id": "LbyXE7I1olp8"
      }
    },
    {
      "cell_type": "markdown",
      "source": [
        "## ***4. Data Vizualization, Storytelling & Experimenting with charts : Understand the relationships between variables***"
      ],
      "metadata": {
        "id": "GF8Ens_Soomf"
      }
    },
    {
      "cell_type": "markdown",
      "source": [
        "#### Chart - 1\n",
        "\n",
        "a. Hotel type with number of booking"
      ],
      "metadata": {
        "id": "0wOQAZs5pc--"
      }
    },
    {
      "cell_type": "code",
      "source": [
        "# Chart - 1 visualization code\n",
        "\n",
        "group_by_hotel = hotel_df.groupby('hotel')\n",
        "df1 = pd.DataFrame((group_by_hotel.size()/hotel_df.shape[0])*100)\n",
        "df2= df1.reset_index().rename(columns = {0:'booking%'})\n",
        "\n",
        "#Setting size, title and plotting. \n",
        "plt.figure(figsize = (10,8)) #set figure size\n",
        "plt.title('Hotel vs booking %') #set title\n",
        "sns.barplot(x = df2['hotel'] , y = df2['booking%']) "
      ],
      "metadata": {
        "id": "7v_ESjsspbW7"
      },
      "execution_count": null,
      "outputs": []
    },
    {
      "cell_type": "markdown",
      "source": [
        "##### 1. Why did you pick the specific chart?"
      ],
      "metadata": {
        "id": "K5QZ13OEpz2H"
      }
    },
    {
      "cell_type": "markdown",
      "source": [
        "Here, I am looking into which kind of hotel have higher number of guests, thus a barplot is most suitable for itAnswer Here."
      ],
      "metadata": {
        "id": "XESiWehPqBRc"
      }
    },
    {
      "cell_type": "markdown",
      "source": [
        "##### 2. What is/are the insight(s) found from the chart?"
      ],
      "metadata": {
        "id": "lQ7QKXXCp7Bj"
      }
    },
    {
      "cell_type": "markdown",
      "source": [
        "According to the graph, city hotel gets higher booking %"
      ],
      "metadata": {
        "id": "C_j1G7yiqdRP"
      }
    },
    {
      "cell_type": "markdown",
      "source": [
        "##### 3. Will the gained insights help creating a positive business impact? \n",
        "Are there any insights that lead to negative growth? Justify with specific reason."
      ],
      "metadata": {
        "id": "448CDAPjqfQr"
      }
    },
    {
      "cell_type": "markdown",
      "source": [
        "As city hotel have higher number of guests coming in, it is important for management to invest in acquiring more number of hotels in cities, keeping city hotels ready for guests at all time and boost ads when required.\n",
        "\n",
        "If, management fails to keep hotels guest ready then it can lead to negative growth"
      ],
      "metadata": {
        "id": "3cspy4FjqxJW"
      }
    },
    {
      "cell_type": "markdown",
      "source": [
        "#### Chart - 2\n",
        "\n",
        "b. Cancellation rate of bookings"
      ],
      "metadata": {
        "id": "KSlN3yHqYklG"
      }
    },
    {
      "cell_type": "code",
      "source": [
        "# Chart - 2 visualization code\n",
        "\n",
        "hotel_df['is_canceled'].value_counts()"
      ],
      "metadata": {
        "id": "R4YgtaqtYklH"
      },
      "execution_count": null,
      "outputs": []
    },
    {
      "cell_type": "code",
      "source": [
        "\n",
        "hotel_df['is_canceled'].value_counts().plot.pie(colors = ['green' , 'red'], autopct='%1.1f%%' , figsize = (15,10), fontsize = 15) #plotting a pie plot.\n",
        "plt.title('Cancellation vs non_cancellation')"
      ],
      "metadata": {
        "id": "PwZC9hO-maIU"
      },
      "execution_count": null,
      "outputs": []
    },
    {
      "cell_type": "markdown",
      "source": [
        "##### 1. Why did you pick the specific chart?"
      ],
      "metadata": {
        "id": "t6dVpIINYklI"
      }
    },
    {
      "cell_type": "markdown",
      "source": [
        "A pie chart is good tool to visualize the distribution, specially when we want to see percentage wise distribution. Anyone from any different domain can see the chart and easily understand it."
      ],
      "metadata": {
        "id": "5aaW0BYyYklI"
      }
    },
    {
      "cell_type": "markdown",
      "source": [
        "##### 2. What is/are the insight(s) found from the chart?"
      ],
      "metadata": {
        "id": "ijmpgYnKYklI"
      }
    },
    {
      "cell_type": "markdown",
      "source": [
        "**27.5%** of all bookings were cancelled, i.e. more than **one-fourth**"
      ],
      "metadata": {
        "id": "PSx9atu2YklI"
      }
    },
    {
      "cell_type": "markdown",
      "source": [
        "##### 3. Will the gained insights help creating a positive business impact? \n",
        "Are there any insights that lead to negative growth? Justify with specific reason."
      ],
      "metadata": {
        "id": "-JiQyfWJYklI"
      }
    },
    {
      "cell_type": "markdown",
      "source": [
        "It will be useful for the management to look into reasons why some guests are cancelling reservations. In case it's because of bad review, etc. management needs to act on it, otherwise it can potentially lead to negative growth"
      ],
      "metadata": {
        "id": "BcBbebzrYklV"
      }
    },
    {
      "cell_type": "markdown",
      "source": [
        "#### Chart - 3\n",
        "\n",
        "c. ADR (Average daily rate) and Distribution channels comparsion, w.r.t. year"
      ],
      "metadata": {
        "id": "EM7whBJCYoAo"
      }
    },
    {
      "cell_type": "code",
      "source": [
        "# Chart - 3 visualization code\n",
        "\n",
        "plt.figure(figsize = (20,7))\n",
        "plt.title('ADR VS Distribution w.r.t. Year.')\n",
        "sns.barplot(data = hotel_df , x = 'distribution_channel' , y = 'adr' , hue = 'arrival_date_year')"
      ],
      "metadata": {
        "id": "t6GMdE67YoAp"
      },
      "execution_count": null,
      "outputs": []
    },
    {
      "cell_type": "markdown",
      "source": [
        "##### 1. Why did you pick the specific chart?"
      ],
      "metadata": {
        "id": "fge-S5ZAYoAp"
      }
    },
    {
      "cell_type": "markdown",
      "source": [
        "As I need to compare here the adr from different streams, bar plot is much more useful than others, like lineplot, piechart, etc."
      ],
      "metadata": {
        "id": "5dBItgRVYoAp"
      }
    },
    {
      "cell_type": "markdown",
      "source": [
        "##### 2. What is/are the insight(s) found from the chart?"
      ],
      "metadata": {
        "id": "85gYPyotYoAp"
      }
    },
    {
      "cell_type": "markdown",
      "source": [
        "Max adr comes from GDS while min comes from corporate"
      ],
      "metadata": {
        "id": "4jstXR6OYoAp"
      }
    },
    {
      "cell_type": "markdown",
      "source": [
        "##### 3. Will the gained insights help creating a positive business impact? \n",
        "Are there any insights that lead to negative growth? Justify with specific reason."
      ],
      "metadata": {
        "id": "RoGjAbkUYoAp"
      }
    },
    {
      "cell_type": "markdown",
      "source": [
        "Pumping better resources into GDS can lead to positive buisness growth. The management can do random checks about micro reasons for other streams not performing well. In case it's because of internal mismanagement in stream, solving it will lead to positive growth."
      ],
      "metadata": {
        "id": "zfJ8IqMcYoAp"
      }
    },
    {
      "cell_type": "markdown",
      "source": [
        "#### Chart - 4\n",
        "\n",
        "d. Frequency of days costumer stays in hotel"
      ],
      "metadata": {
        "id": "4Of9eVA-YrdM"
      }
    },
    {
      "cell_type": "code",
      "source": [
        "# Chart - 4 visualization code\n",
        "\n",
        "plt.figure(figsize = (20,7))\n",
        "plt.title('Distribution of days costomers stays in hotel')\n",
        "sns.countplot( x = hotel_df['total stay'])"
      ],
      "metadata": {
        "id": "irlUoxc8YrdO"
      },
      "execution_count": null,
      "outputs": []
    },
    {
      "cell_type": "markdown",
      "source": [
        "##### 1. Why did you pick the specific chart?"
      ],
      "metadata": {
        "id": "iky9q4vBYrdO"
      }
    },
    {
      "cell_type": "markdown",
      "source": [
        "As I need to do a distribution plot for discrete data, countplot in seaborn is the best option."
      ],
      "metadata": {
        "id": "aJRCwT6DYrdO"
      }
    },
    {
      "cell_type": "markdown",
      "source": [
        "##### 2. What is/are the insight(s) found from the chart?"
      ],
      "metadata": {
        "id": "F6T5p64dYrdO"
      }
    },
    {
      "cell_type": "markdown",
      "source": [
        "Most customers stay in hotel for 1 to 4, there are hardly any customers who stays for more that 12 days. None stayed for more than 28 days according to past collected data."
      ],
      "metadata": {
        "id": "Xx8WAJvtYrdO"
      }
    },
    {
      "cell_type": "markdown",
      "source": [
        "##### 3. Will the gained insights help creating a positive business impact? \n",
        "Are there any insights that lead to negative growth? Justify with specific reason."
      ],
      "metadata": {
        "id": "y-Ehk30pYrdP"
      }
    },
    {
      "cell_type": "markdown",
      "source": [
        "Not many guests stays in hotel for more than a week, but the management can provide additional discount to try increase the number."
      ],
      "metadata": {
        "id": "jLNxxz7MYrdP"
      }
    },
    {
      "cell_type": "markdown",
      "source": [
        "#### Chart - 5"
      ],
      "metadata": {
        "id": "bamQiAODYuh1"
      }
    },
    {
      "cell_type": "code",
      "source": [
        "# Chart - 5 visualization code\n",
        "\n",
        "group_by_hotel = hotel_df.groupby('hotel') #grouping by\n",
        "Mean_adr = group_by_hotel['adr'].mean().reset_index() \n",
        "\n",
        "plt.figure(figsize = (10,7))\n",
        "\n",
        "plt.xlabel('hotel')\n",
        "plt.ylabel('adr')\n",
        "plt.title('ADR distribution by hotel type')\n",
        "\n",
        "sns.barplot(x= Mean_adr['hotel'] , y = Mean_adr['adr'])"
      ],
      "metadata": {
        "id": "TIJwrbroYuh3"
      },
      "execution_count": null,
      "outputs": []
    },
    {
      "cell_type": "markdown",
      "source": [
        "##### 1. Why did you pick the specific chart?"
      ],
      "metadata": {
        "id": "QHF8YVU7Yuh3"
      }
    },
    {
      "cell_type": "markdown",
      "source": [
        "For comparision, Barplot is a easy to understand."
      ],
      "metadata": {
        "id": "dcxuIMRPYuh3"
      }
    },
    {
      "cell_type": "markdown",
      "source": [
        "##### 2. What is/are the insight(s) found from the chart?"
      ],
      "metadata": {
        "id": "GwzvFGzlYuh3"
      }
    },
    {
      "cell_type": "markdown",
      "source": [
        "According to the graph, city is generating more adr on average, thus points towards better revenue."
      ],
      "metadata": {
        "id": "uyqkiB8YYuh3"
      }
    },
    {
      "cell_type": "markdown",
      "source": [
        "##### 3. Will the gained insights help creating a positive business impact? \n",
        "Are there any insights that lead to negative growth? Justify with specific reason."
      ],
      "metadata": {
        "id": "qYpmQ266Yuh3"
      }
    },
    {
      "cell_type": "markdown",
      "source": [
        "As city hotel is generating higher on average adr, investing to open more city hotel can potentially lead to positive buisness growth.\n",
        "\n",
        "In case, company invests high amount in resort hotels in hopes for better adr, it will potentially lead to negative buisness growth."
      ],
      "metadata": {
        "id": "_WtzZ_hCYuh4"
      }
    },
    {
      "cell_type": "markdown",
      "source": [
        "#### Chart - 6\n",
        "\n",
        "f. Customer preference by room type"
      ],
      "metadata": {
        "id": "OH-pJp9IphqM"
      }
    },
    {
      "cell_type": "code",
      "source": [
        "# Chart - 6 visualization code\n",
        "\n",
        "plt.figure(figsize = (20,7))\n",
        "plt.xlabel('Room Type')\n",
        "plt.ylabel('Frequency of Room booked by costumer')\n",
        "plt.title(\"Preference of room distribution\")\n",
        "sns.countplot(x = hotel_df['reserved_room_type'] , order= hotel_df['reserved_room_type'].value_counts().index)"
      ],
      "metadata": {
        "id": "kuRf4wtuphqN"
      },
      "execution_count": null,
      "outputs": []
    },
    {
      "cell_type": "markdown",
      "source": [
        "##### 1. Why did you pick the specific chart?"
      ],
      "metadata": {
        "id": "bbFf2-_FphqN"
      }
    },
    {
      "cell_type": "markdown",
      "source": [
        "As we are comparing frequency distribution here, to compare which room types have high demand, count plot is a better option. It will count demand of each room type and plot a bar chat to represent it."
      ],
      "metadata": {
        "id": "loh7H2nzphqN"
      }
    },
    {
      "cell_type": "markdown",
      "source": [
        "##### 2. What is/are the insight(s) found from the chart?"
      ],
      "metadata": {
        "id": "_ouA3fa0phqN"
      }
    },
    {
      "cell_type": "markdown",
      "source": [
        "Costumers are booking room type 'A' in very high number(at around 5k +), followed by D, E, F, G,B,C,H, type. According to previous data, no one prefers L and P type room."
      ],
      "metadata": {
        "id": "VECbqPI7phqN"
      }
    },
    {
      "cell_type": "markdown",
      "source": [
        "##### 3. Will the gained insights help creating a positive business impact? \n",
        "Are there any insights that lead to negative growth? Justify with specific reason."
      ],
      "metadata": {
        "id": "Seke61FWphqN"
      }
    },
    {
      "cell_type": "markdown",
      "source": [
        "As most of the guests prefer A, the hotel management can consider changing hotel room type L, P into A as L,P types room have no demand according current historical trend. By investing in converting room, hotel can expect a positive buisness growth. As per as previous chart, there are a number of cancellation as well in booking, in case some guests are cancelling the booking because of unavailability of favourite room type, it can minimize cancellation."
      ],
      "metadata": {
        "id": "DW4_bGpfphqN"
      }
    },
    {
      "cell_type": "markdown",
      "source": [
        "#### Chart - 7\n",
        "\n",
        "g. Distribution of Market segement that are cancelling hotel reservation."
      ],
      "metadata": {
        "id": "PIIx-8_IphqN"
      }
    },
    {
      "cell_type": "code",
      "source": [
        "# Chart - 7 visualization \n",
        "\n",
        "Cancelled_df = hotel_df[hotel_df['is_canceled'] == 1] #Making a df where cancellation is done. \n",
        "Cancelled_df.head()"
      ],
      "metadata": {
        "id": "lqAIGUfyphqO"
      },
      "execution_count": null,
      "outputs": []
    },
    {
      "cell_type": "code",
      "source": [
        "Cancelled_df = Cancelled_df.groupby(['market_segment' , 'hotel']).size().reset_index().rename(columns={0:'counts'}) #grouping them for better analysis.\n",
        "Cancelled_df"
      ],
      "metadata": {
        "id": "GCUdpQH7SdBk"
      },
      "execution_count": null,
      "outputs": []
    },
    {
      "cell_type": "code",
      "source": [
        "\n",
        "plt.figure(figsize=(20,7))\n",
        "plt.title('cancellation vs market segement')\n",
        "plt.ylabel('number of cancellation')\n",
        "sns.barplot( x = 'market_segment' , y = 'counts' , hue= 'hotel' , data = Cancelled_df)"
      ],
      "metadata": {
        "id": "QLAde7mvSk27"
      },
      "execution_count": null,
      "outputs": []
    },
    {
      "cell_type": "markdown",
      "source": [
        "##### 1. Why did you pick the specific chart?"
      ],
      "metadata": {
        "id": "t27r6nlMphqO"
      }
    },
    {
      "cell_type": "markdown",
      "source": [
        "Here, in this graph, we are comparing the cancellation by different channel as well as in different hotel type. Thus, a barplot is easier to visualize here as it represents all of them side by side."
      ],
      "metadata": {
        "id": "iv6ro40sphqO"
      }
    },
    {
      "cell_type": "markdown",
      "source": [
        "##### 2. What is/are the insight(s) found from the chart?"
      ],
      "metadata": {
        "id": "r2jJGEOYphqO"
      }
    },
    {
      "cell_type": "markdown",
      "source": [
        "Online TA have highest cancellation rate, in city hotel."
      ],
      "metadata": {
        "id": "Po6ZPi4hphqO"
      }
    },
    {
      "cell_type": "markdown",
      "source": [
        "##### 3. Will the gained insights help creating a positive business impact? \n",
        "Are there any insights that lead to negative growth? Justify with specific reason."
      ],
      "metadata": {
        "id": "b0JNsNcRphqO"
      }
    },
    {
      "cell_type": "markdown",
      "source": [
        "An online TA/TO have highest cancellation rate, the management should invest to understand the reason for it. Understanding and handling such cancellation will lead to positive buisness growth"
      ],
      "metadata": {
        "id": "xvSq8iUTphqO"
      }
    },
    {
      "cell_type": "markdown",
      "source": [
        "#### Chart - 8\n",
        "\n",
        "h. Which meal type is most preferred."
      ],
      "metadata": {
        "id": "BZR9WyysphqO"
      }
    },
    {
      "cell_type": "code",
      "source": [
        "# Chart - 8 visualization code\n",
        "\n",
        "plt.figure(figsize = (10,7))\n",
        "plt.title('Most popular meal type')\n",
        "\n",
        "sns.countplot(x = hotel_df['meal'])"
      ],
      "metadata": {
        "id": "TdPTWpAVphqO"
      },
      "execution_count": null,
      "outputs": []
    },
    {
      "cell_type": "markdown",
      "source": [
        "##### 1. Why did you pick the specific chart?"
      ],
      "metadata": {
        "id": "jj7wYXLtphqO"
      }
    },
    {
      "cell_type": "markdown",
      "source": [
        "Countplot groups and plots a barplot. Here, we need to visualize the variation of demand by foodtype, count plot is the best option."
      ],
      "metadata": {
        "id": "Ob8u6rCTphqO"
      }
    },
    {
      "cell_type": "markdown",
      "source": [
        "##### 2. What is/are the insight(s) found from the chart?"
      ],
      "metadata": {
        "id": "eZrbJ2SmphqO"
      }
    },
    {
      "cell_type": "markdown",
      "source": [
        "BB is the most popular meal type."
      ],
      "metadata": {
        "id": "mZtgC_hjphqO"
      }
    },
    {
      "cell_type": "markdown",
      "source": [
        "##### 3. Will the gained insights help creating a positive business impact? \n",
        "Are there any insights that lead to negative growth? Justify with specific reason."
      ],
      "metadata": {
        "id": "rFu4xreNphqO"
      }
    },
    {
      "cell_type": "markdown",
      "source": [
        "As BB have highest demand, the management can invest to ensure the availablity at all the time at highest priority. It will lead to guest satisfication and can potentially increase repeat guests."
      ],
      "metadata": {
        "id": "ey_0qi68phqO"
      }
    },
    {
      "cell_type": "markdown",
      "source": [
        "#### Chart - 9\n",
        "\n",
        "i. Car parking requirement of costumers."
      ],
      "metadata": {
        "id": "YJ55k-q6phqO"
      }
    },
    {
      "cell_type": "code",
      "source": [
        "# Chart - 9 visualization code\n",
        "\n",
        "hotel_df['required_car_parking_spaces'].value_counts().plot.pie(autopct='%1.1f%%' ,figsize = (15,10) , fontsize = 15)\n",
        "plt.legend()"
      ],
      "metadata": {
        "id": "B2aS4O1ophqO"
      },
      "execution_count": null,
      "outputs": []
    },
    {
      "cell_type": "markdown",
      "source": [
        "##### 1. Why did you pick the specific chart?"
      ],
      "metadata": {
        "id": "gCFgpxoyphqP"
      }
    },
    {
      "cell_type": "markdown",
      "source": [
        "Here we want to visualize a relative(% wise) representation of data, about demand of parking space. Pie chart is easier to intrepret such requirement as it represents the data in circular(pie) form with parts distributed for each %."
      ],
      "metadata": {
        "id": "TVxDimi2phqP"
      }
    },
    {
      "cell_type": "markdown",
      "source": [
        "##### 2. What is/are the insight(s) found from the chart?"
      ],
      "metadata": {
        "id": "OVtJsKN_phqQ"
      }
    },
    {
      "cell_type": "markdown",
      "source": [
        "Most guests do not need parking space, while just 8.3% needs 1 parking space."
      ],
      "metadata": {
        "id": "ngGi97qjphqQ"
      }
    },
    {
      "cell_type": "markdown",
      "source": [
        "##### 3. Will the gained insights help creating a positive business impact? \n",
        "Are there any insights that lead to negative growth? Justify with specific reason."
      ],
      "metadata": {
        "id": "lssrdh5qphqQ"
      }
    },
    {
      "cell_type": "markdown",
      "source": [
        "As most guests do not need any parking space, the management can look into possibility of converting extra parking space into room type A, which can potentially lead to positive buisness growth."
      ],
      "metadata": {
        "id": "tBpY5ekJphqQ"
      }
    },
    {
      "cell_type": "markdown",
      "source": [
        "#### Chart - 10\n",
        "\n",
        "k. Trend of monthly bookings."
      ],
      "metadata": {
        "id": "U2RJ9gkRphqQ"
      }
    },
    {
      "cell_type": "code",
      "source": [
        "# Chart - 10 visualization code\n",
        "\n",
        "import calendar"
      ],
      "metadata": {
        "id": "GM7a4YP4phqQ"
      },
      "execution_count": null,
      "outputs": []
    },
    {
      "cell_type": "code",
      "source": [
        "month_data=df_uncancelled['arrival_date_month'].value_counts().reindex(calendar.month_name[0:])\n",
        "figures=plt.figure(figsize=(20,7))\n",
        "x=month_data.index\n",
        "y=month_data/month_data.sum()*100\n",
        "sns.lineplot(y.values)"
      ],
      "metadata": {
        "id": "Iih3LC1zVSGF"
      },
      "execution_count": null,
      "outputs": []
    },
    {
      "cell_type": "markdown",
      "source": [
        "##### 1. Why did you pick the specific chart?"
      ],
      "metadata": {
        "id": "1M8mcRywphqQ"
      }
    },
    {
      "cell_type": "markdown",
      "source": [
        "For trend visualization, line plot is the best option as increase and decrease is easier to see with line plot."
      ],
      "metadata": {
        "id": "8agQvks0phqQ"
      }
    },
    {
      "cell_type": "markdown",
      "source": [
        "##### 2. What is/are the insight(s) found from the chart?"
      ],
      "metadata": {
        "id": "tgIPom80phqQ"
      }
    },
    {
      "cell_type": "markdown",
      "source": [
        "The booking starts low, peaks and then drop again.\n",
        "\n",
        "Highest booking is there in month of August.\n",
        "\n",
        "In DEC. and January, booking are the lowest."
      ],
      "metadata": {
        "id": "Qp13pnNzphqQ"
      }
    },
    {
      "cell_type": "markdown",
      "source": [
        "##### 3. Will the gained insights help creating a positive business impact? \n",
        "Are there any insights that lead to negative growth? Justify with specific reason."
      ],
      "metadata": {
        "id": "JMzcOPDDphqR"
      }
    },
    {
      "cell_type": "markdown",
      "source": [
        "The management can look into reasons for low demand in JAN and DEC.\n",
        "Management can also offer additional discount in months with low demand. It can potentially lead to positive buisness growth.\n",
        "In months with low demand, the management can consider to invest in ads."
      ],
      "metadata": {
        "id": "R4Ka1PC2phqR"
      }
    },
    {
      "cell_type": "markdown",
      "source": [
        "#### Chart - 11 - Correlation Heatmap"
      ],
      "metadata": {
        "id": "x-EpHcCOp1ci"
      }
    },
    {
      "cell_type": "code",
      "source": [
        "# Chart - 11 visualization code\n",
        "\n",
        "plt.figure(figsize =(20,20))\n",
        "plt.title('Corelation between different columns/features')\n",
        "sns.heatmap(hotel_df.corr() , annot = True , cmap=sns.diverging_palette(20, 220, n=200))"
      ],
      "metadata": {
        "id": "mAQTIvtqp1cj"
      },
      "execution_count": null,
      "outputs": []
    },
    {
      "cell_type": "markdown",
      "source": [
        "##### 1. Why did you pick the specific chart?"
      ],
      "metadata": {
        "id": "X_VqEhTip1ck"
      }
    },
    {
      "cell_type": "markdown",
      "source": [
        "Heatplots are best to visualize the correlation between different columns. High correlation tends to be closer to 1, and lower are close to 0. -ve means they are negatively corelated, that means when one increase, other decrease."
      ],
      "metadata": {
        "id": "-vsMzt_np1ck"
      }
    },
    {
      "cell_type": "markdown",
      "source": [
        "##### 2. What is/are the insight(s) found from the chart?"
      ],
      "metadata": {
        "id": "8zGJKyg5p1ck"
      }
    },
    {
      "cell_type": "markdown",
      "source": [
        "Most columns have low-correlation.\n",
        "Blocks with -vs are negatively correlated.It will mean that if one of them will increase, other will decrease.\n",
        "Blocks with +ve shows higher co-relation. Means both will increase and decrease together.\n",
        "For eg: children, adults & adr are positvely correlated.\n",
        "Previous booking not cancelled and repeated guests are correlated.\n",
        "Lead time and stay length also have correlation."
      ],
      "metadata": {
        "id": "ZYdMsrqVp1ck"
      }
    },
    {
      "cell_type": "markdown",
      "source": [
        "#### Chart - 12 - Pair Plot"
      ],
      "metadata": {
        "id": "n3dbpmDWp1ck"
      }
    },
    {
      "cell_type": "code",
      "source": [
        "# Chart - 12 visualization code\n",
        "\n",
        "sns.pairplot(hotel_df)"
      ],
      "metadata": {
        "id": "bwevp1tKp1ck"
      },
      "execution_count": null,
      "outputs": []
    },
    {
      "cell_type": "markdown",
      "source": [
        "##### 1. Why did you pick the specific chart?"
      ],
      "metadata": {
        "id": "ylSl6qgtp1ck"
      }
    },
    {
      "cell_type": "markdown",
      "source": [
        "Pair plot represents the correlation of all features paired to one another(as well as denstity curve on diagonal). Pair plot is not good for data with high number of features as it's not easier to unbderstand for most people, hence neglecting it. Its most useful when the features are lower in number"
      ],
      "metadata": {
        "id": "m2xqNkiQp1ck"
      }
    },
    {
      "cell_type": "markdown",
      "source": [
        "## **5. Solution to Business Objective**"
      ],
      "metadata": {
        "id": "JcMwzZxoAimU"
      }
    },
    {
      "cell_type": "markdown",
      "source": [
        "#### What do you suggest the client to achieve Business Objective ? \n",
        "Explain Briefly."
      ],
      "metadata": {
        "id": "8G2x9gOozGDZ"
      }
    },
    {
      "cell_type": "markdown",
      "source": [
        "Max guests come to city hotel.\n",
        "Thus, the resort hotel need a little more work on marketing and attracting guests.\n",
        "\n",
        "27.5% of the guests cancel the booking.\n",
        "The manegemnt is suggested to look into the reason for cancellation.\n",
        "\n",
        "GDS gives highest ADR compared to other distribution channel, thus points towards higher revenue. The buisness can work in investing more in GDS to potentially increase the buisness. It can also consider looking into other streams.\n",
        "\n",
        "Most guests stay at hotel for less than 7 days.\n",
        "\n",
        "City hotel have higher adr, thus generating more revenue.\n",
        "\n",
        "The management can consider acquring or opening more city hotels for positive buisness growth.\n",
        "\n",
        "Room type A is most preferred by guests.\n",
        "Thus, Room type A must be cleaned and repaired more frequently. Spare light bulbs, mosquito repellent, etc. should also be kept available acording room type A 's needs.\n",
        "\n",
        "BB is most preferred meal. Thus, it needs to be always available. Keeping guests happy with favourite meal can increase repeat guests as well as referrals.\n",
        "\n",
        "TA/TO has highest cancellation rate. Thus the company needs to look into reasons of it and try to provide additional discounts to attract cancelled guests.\n",
        "\n",
        "91.6% guests don't need parking space. The management can consider to convert extra parking space into rooms, if it is possible.\n",
        "\n",
        "Max. Booking happens July to Mid-August. The management can consider investing in ads in months of lower demand as well as it can provide discount in case there are non - performing assests(rooms)."
      ],
      "metadata": {
        "id": "pASKb0qOza21"
      }
    },
    {
      "cell_type": "markdown",
      "source": [
        "# **Conclusion**"
      ],
      "metadata": {
        "id": "gCX9965dhzqZ"
      }
    },
    {
      "cell_type": "markdown",
      "source": [
        "This data set contains booking information for a city hotel and a resort hotel, and includes information such as when the booking was made, length of stay, the number of adults, children, and/or babies, and the number of available parking spaces, among other things. All personally identifying information has been removed from the data, for the shake of privacy.\n",
        "\n",
        "I started the analysis with checking how many null rows I have in data, as book-keeping errors and missing values gives poor result in analysis. After taking care of null values, I dropped the duplicates.\n",
        "\n",
        "I made a number of graph to understand:\n",
        "\n",
        "Hotel type that have max booking.\n",
        "% of booking cancellation.\n",
        "ADR wrt to booking channels.\n",
        "Stay of guests.\n",
        "Preferred room type of guests.\n",
        "Segment with higher cancellation rate.\n",
        "Meal preferred by guests.\n",
        "Car parking space requirement.\n",
        "Months with higher booking.\n",
        "All the above graphs ultimately helped us to understand what kind of customers comes to hotel, resource that are required on regular basis, etc.\n",
        "\n",
        "After all the detailed analysis, I have also made a correlation chart of different columns/features. I have also suggested a number of suggestions for management to have a positive business growth."
      ],
      "metadata": {
        "id": "Fjb1IsQkh3yE"
      }
    },
    {
      "cell_type": "markdown",
      "source": [
        "### ***Hurrah! You have successfully completed your EDA Capstone Project !!!***"
      ],
      "metadata": {
        "id": "gIfDvo9L0UH2"
      }
    }
  ]
}